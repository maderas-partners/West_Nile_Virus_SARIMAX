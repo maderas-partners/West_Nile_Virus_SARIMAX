{
 "cells": [
  {
   "cell_type": "code",
   "execution_count": null,
   "metadata": {
    "colab": {
     "base_uri": "https://localhost:8080/"
    },
    "id": "RBaFfW6kMFh2",
    "outputId": "55bcdc16-e955-4e03-bfef-27aed9787e19"
   },
   "outputs": [
    {
     "name": "stdout",
     "output_type": "stream",
     "text": [
      "Mounted at /content/drive\n"
     ]
    }
   ],
   "source": [
    "from google.colab import drive\n",
    "drive.mount('/content/drive')"
   ]
  },
  {
   "cell_type": "code",
   "execution_count": null,
   "metadata": {
    "colab": {
     "base_uri": "https://localhost:8080/"
    },
    "id": "ij-vajCxML-k",
    "outputId": "96949265-4536-4a70-d695-885fcf606fee"
   },
   "outputs": [
    {
     "name": "stderr",
     "output_type": "stream",
     "text": [
      "/usr/local/lib/python3.7/dist-packages/statsmodels/tools/_testing.py:19: FutureWarning: pandas.util.testing is deprecated. Use the functions in the public API at pandas.testing instead.\n",
      "  import pandas.util.testing as tm\n"
     ]
    }
   ],
   "source": [
    "import numpy as np\n",
    "import pandas as pd\n",
    "from scipy.stats import norm\n",
    "import statsmodels.api as sm\n",
    "import matplotlib.pyplot as plt\n",
    "from datetime import datetime\n",
    "import requests\n",
    "from io import BytesIO\n",
    "from statsmodels.tsa.stattools import adfuller, kpss\n",
    "%matplotlib inline"
   ]
  },
  {
   "cell_type": "markdown",
   "metadata": {
    "id": "ch8lFwGPzUn-"
   },
   "source": [
    "Pulling in data"
   ]
  },
  {
   "cell_type": "code",
   "execution_count": null,
   "metadata": {
    "id": "Vudd9jERMSJr"
   },
   "outputs": [],
   "source": [
    "combined = pd.read_csv('/content/drive/My Drive/DS4A/my_data_file.csv',parse_dates=['date'], index_col='date')"
   ]
  },
  {
   "cell_type": "code",
   "execution_count": null,
   "metadata": {
    "colab": {
     "base_uri": "https://localhost:8080/",
     "height": 301
    },
    "id": "Pn2vlI5Ue0Xg",
    "outputId": "65e0b717-a080-46d4-dd9c-6f98dc65ac75"
   },
   "outputs": [
    {
     "data": {
      "text/html": [
       "\n",
       "  <div id=\"df-37e8714d-9925-4c6d-8ddc-61bfaa40aa88\">\n",
       "    <div class=\"colab-df-container\">\n",
       "      <div>\n",
       "<style scoped>\n",
       "    .dataframe tbody tr th:only-of-type {\n",
       "        vertical-align: middle;\n",
       "    }\n",
       "\n",
       "    .dataframe tbody tr th {\n",
       "        vertical-align: top;\n",
       "    }\n",
       "\n",
       "    .dataframe thead th {\n",
       "        text-align: right;\n",
       "    }\n",
       "</style>\n",
       "<table border=\"1\" class=\"dataframe\">\n",
       "  <thead>\n",
       "    <tr style=\"text-align: right;\">\n",
       "      <th></th>\n",
       "      <th>county</th>\n",
       "      <th>precip_mm</th>\n",
       "      <th>temp_min_celsius</th>\n",
       "      <th>temp_mean_celsius</th>\n",
       "      <th>temp_max_celsius</th>\n",
       "      <th>case_count</th>\n",
       "      <th>longitude_west</th>\n",
       "      <th>latitude_north</th>\n",
       "      <th>region</th>\n",
       "      <th>month</th>\n",
       "      <th>season</th>\n",
       "      <th>Year</th>\n",
       "      <th>Population</th>\n",
       "      <th>cases_per_100k</th>\n",
       "    </tr>\n",
       "    <tr>\n",
       "      <th>date</th>\n",
       "      <th></th>\n",
       "      <th></th>\n",
       "      <th></th>\n",
       "      <th></th>\n",
       "      <th></th>\n",
       "      <th></th>\n",
       "      <th></th>\n",
       "      <th></th>\n",
       "      <th></th>\n",
       "      <th></th>\n",
       "      <th></th>\n",
       "      <th></th>\n",
       "      <th></th>\n",
       "      <th></th>\n",
       "    </tr>\n",
       "  </thead>\n",
       "  <tbody>\n",
       "    <tr>\n",
       "      <th>2006-01-07</th>\n",
       "      <td>Alameda</td>\n",
       "      <td>9.561429</td>\n",
       "      <td>5.457143</td>\n",
       "      <td>10.342857</td>\n",
       "      <td>15.228571</td>\n",
       "      <td>0</td>\n",
       "      <td>122</td>\n",
       "      <td>37</td>\n",
       "      <td>3</td>\n",
       "      <td>1</td>\n",
       "      <td>1</td>\n",
       "      <td>2006</td>\n",
       "      <td>1462371</td>\n",
       "      <td>0.0</td>\n",
       "    </tr>\n",
       "    <tr>\n",
       "      <th>2006-01-14</th>\n",
       "      <td>Alameda</td>\n",
       "      <td>1.148571</td>\n",
       "      <td>3.728571</td>\n",
       "      <td>9.557143</td>\n",
       "      <td>15.385714</td>\n",
       "      <td>0</td>\n",
       "      <td>122</td>\n",
       "      <td>37</td>\n",
       "      <td>3</td>\n",
       "      <td>1</td>\n",
       "      <td>1</td>\n",
       "      <td>2006</td>\n",
       "      <td>1462371</td>\n",
       "      <td>0.0</td>\n",
       "    </tr>\n",
       "    <tr>\n",
       "      <th>2006-01-21</th>\n",
       "      <td>Alameda</td>\n",
       "      <td>3.211429</td>\n",
       "      <td>2.857143</td>\n",
       "      <td>8.000000</td>\n",
       "      <td>13.114286</td>\n",
       "      <td>0</td>\n",
       "      <td>122</td>\n",
       "      <td>37</td>\n",
       "      <td>3</td>\n",
       "      <td>1</td>\n",
       "      <td>1</td>\n",
       "      <td>2006</td>\n",
       "      <td>1462371</td>\n",
       "      <td>0.0</td>\n",
       "    </tr>\n",
       "    <tr>\n",
       "      <th>2006-01-28</th>\n",
       "      <td>Alameda</td>\n",
       "      <td>0.437143</td>\n",
       "      <td>3.257143</td>\n",
       "      <td>8.657143</td>\n",
       "      <td>14.100000</td>\n",
       "      <td>0</td>\n",
       "      <td>122</td>\n",
       "      <td>37</td>\n",
       "      <td>3</td>\n",
       "      <td>1</td>\n",
       "      <td>1</td>\n",
       "      <td>2006</td>\n",
       "      <td>1462371</td>\n",
       "      <td>0.0</td>\n",
       "    </tr>\n",
       "    <tr>\n",
       "      <th>2006-02-04</th>\n",
       "      <td>Alameda</td>\n",
       "      <td>2.841429</td>\n",
       "      <td>6.414286</td>\n",
       "      <td>11.185714</td>\n",
       "      <td>15.928571</td>\n",
       "      <td>0</td>\n",
       "      <td>122</td>\n",
       "      <td>37</td>\n",
       "      <td>3</td>\n",
       "      <td>2</td>\n",
       "      <td>1</td>\n",
       "      <td>2006</td>\n",
       "      <td>1462371</td>\n",
       "      <td>0.0</td>\n",
       "    </tr>\n",
       "  </tbody>\n",
       "</table>\n",
       "</div>\n",
       "      <button class=\"colab-df-convert\" onclick=\"convertToInteractive('df-37e8714d-9925-4c6d-8ddc-61bfaa40aa88')\"\n",
       "              title=\"Convert this dataframe to an interactive table.\"\n",
       "              style=\"display:none;\">\n",
       "        \n",
       "  <svg xmlns=\"http://www.w3.org/2000/svg\" height=\"24px\"viewBox=\"0 0 24 24\"\n",
       "       width=\"24px\">\n",
       "    <path d=\"M0 0h24v24H0V0z\" fill=\"none\"/>\n",
       "    <path d=\"M18.56 5.44l.94 2.06.94-2.06 2.06-.94-2.06-.94-.94-2.06-.94 2.06-2.06.94zm-11 1L8.5 8.5l.94-2.06 2.06-.94-2.06-.94L8.5 2.5l-.94 2.06-2.06.94zm10 10l.94 2.06.94-2.06 2.06-.94-2.06-.94-.94-2.06-.94 2.06-2.06.94z\"/><path d=\"M17.41 7.96l-1.37-1.37c-.4-.4-.92-.59-1.43-.59-.52 0-1.04.2-1.43.59L10.3 9.45l-7.72 7.72c-.78.78-.78 2.05 0 2.83L4 21.41c.39.39.9.59 1.41.59.51 0 1.02-.2 1.41-.59l7.78-7.78 2.81-2.81c.8-.78.8-2.07 0-2.86zM5.41 20L4 18.59l7.72-7.72 1.47 1.35L5.41 20z\"/>\n",
       "  </svg>\n",
       "      </button>\n",
       "      \n",
       "  <style>\n",
       "    .colab-df-container {\n",
       "      display:flex;\n",
       "      flex-wrap:wrap;\n",
       "      gap: 12px;\n",
       "    }\n",
       "\n",
       "    .colab-df-convert {\n",
       "      background-color: #E8F0FE;\n",
       "      border: none;\n",
       "      border-radius: 50%;\n",
       "      cursor: pointer;\n",
       "      display: none;\n",
       "      fill: #1967D2;\n",
       "      height: 32px;\n",
       "      padding: 0 0 0 0;\n",
       "      width: 32px;\n",
       "    }\n",
       "\n",
       "    .colab-df-convert:hover {\n",
       "      background-color: #E2EBFA;\n",
       "      box-shadow: 0px 1px 2px rgba(60, 64, 67, 0.3), 0px 1px 3px 1px rgba(60, 64, 67, 0.15);\n",
       "      fill: #174EA6;\n",
       "    }\n",
       "\n",
       "    [theme=dark] .colab-df-convert {\n",
       "      background-color: #3B4455;\n",
       "      fill: #D2E3FC;\n",
       "    }\n",
       "\n",
       "    [theme=dark] .colab-df-convert:hover {\n",
       "      background-color: #434B5C;\n",
       "      box-shadow: 0px 1px 3px 1px rgba(0, 0, 0, 0.15);\n",
       "      filter: drop-shadow(0px 1px 2px rgba(0, 0, 0, 0.3));\n",
       "      fill: #FFFFFF;\n",
       "    }\n",
       "  </style>\n",
       "\n",
       "      <script>\n",
       "        const buttonEl =\n",
       "          document.querySelector('#df-37e8714d-9925-4c6d-8ddc-61bfaa40aa88 button.colab-df-convert');\n",
       "        buttonEl.style.display =\n",
       "          google.colab.kernel.accessAllowed ? 'block' : 'none';\n",
       "\n",
       "        async function convertToInteractive(key) {\n",
       "          const element = document.querySelector('#df-37e8714d-9925-4c6d-8ddc-61bfaa40aa88');\n",
       "          const dataTable =\n",
       "            await google.colab.kernel.invokeFunction('convertToInteractive',\n",
       "                                                     [key], {});\n",
       "          if (!dataTable) return;\n",
       "\n",
       "          const docLinkHtml = 'Like what you see? Visit the ' +\n",
       "            '<a target=\"_blank\" href=https://colab.research.google.com/notebooks/data_table.ipynb>data table notebook</a>'\n",
       "            + ' to learn more about interactive tables.';\n",
       "          element.innerHTML = '';\n",
       "          dataTable['output_type'] = 'display_data';\n",
       "          await google.colab.output.renderOutput(dataTable, element);\n",
       "          const docLink = document.createElement('div');\n",
       "          docLink.innerHTML = docLinkHtml;\n",
       "          element.appendChild(docLink);\n",
       "        }\n",
       "      </script>\n",
       "    </div>\n",
       "  </div>\n",
       "  "
      ],
      "text/plain": [
       "             county  precip_mm  ...  Population  cases_per_100k\n",
       "date                            ...                            \n",
       "2006-01-07  Alameda   9.561429  ...     1462371             0.0\n",
       "2006-01-14  Alameda   1.148571  ...     1462371             0.0\n",
       "2006-01-21  Alameda   3.211429  ...     1462371             0.0\n",
       "2006-01-28  Alameda   0.437143  ...     1462371             0.0\n",
       "2006-02-04  Alameda   2.841429  ...     1462371             0.0\n",
       "\n",
       "[5 rows x 14 columns]"
      ]
     },
     "execution_count": 4,
     "metadata": {},
     "output_type": "execute_result"
    }
   ],
   "source": [
    "combined.head()"
   ]
  },
  {
   "cell_type": "code",
   "execution_count": null,
   "metadata": {
    "id": "-DzO_VTLMVgJ"
   },
   "outputs": [],
   "source": [
    "df=combined.copy()"
   ]
  },
  {
   "cell_type": "markdown",
   "metadata": {
    "id": "OJbVQrvYzYV_"
   },
   "source": [
    "Additional EDA for model specifications"
   ]
  },
  {
   "cell_type": "code",
   "execution_count": null,
   "metadata": {
    "id": "sopGQY7MMpTb"
   },
   "outputs": [],
   "source": [
    "df_county=df.drop(['temp_min_celsius','temp_mean_celsius','precip_mm','temp_max_celsius','longitude_west','latitude_north','region','season','month'],axis=1)\n",
    "df_year=df.drop(['temp_min_celsius','temp_mean_celsius','precip_mm','temp_max_celsius','longitude_west','latitude_north','region','season','month'],axis=1)\n",
    "df_month=df.drop(['temp_min_celsius','temp_mean_celsius','precip_mm','temp_max_celsius','longitude_west','latitude_north','region','season'],axis=1)"
   ]
  },
  {
   "cell_type": "code",
   "execution_count": null,
   "metadata": {
    "id": "EAz2NB5w9OXn"
   },
   "outputs": [],
   "source": [
    "df_county.reset_index(inplace=True)\n",
    "df_year.reset_index(inplace=True)\n",
    "df_month.reset_index(inplace=True)"
   ]
  },
  {
   "cell_type": "code",
   "execution_count": null,
   "metadata": {
    "colab": {
     "base_uri": "https://localhost:8080/",
     "height": 301
    },
    "id": "u6ui8yKYwOMS",
    "outputId": "5b7f40c7-605e-4d19-991e-78a5b3647ba1"
   },
   "outputs": [
    {
     "data": {
      "text/html": [
       "\n",
       "  <div id=\"df-9a2dd1ad-fea1-45bc-9d22-a7b2f4b8b2ae\">\n",
       "    <div class=\"colab-df-container\">\n",
       "      <div>\n",
       "<style scoped>\n",
       "    .dataframe tbody tr th:only-of-type {\n",
       "        vertical-align: middle;\n",
       "    }\n",
       "\n",
       "    .dataframe tbody tr th {\n",
       "        vertical-align: top;\n",
       "    }\n",
       "\n",
       "    .dataframe thead th {\n",
       "        text-align: right;\n",
       "    }\n",
       "</style>\n",
       "<table border=\"1\" class=\"dataframe\">\n",
       "  <thead>\n",
       "    <tr style=\"text-align: right;\">\n",
       "      <th></th>\n",
       "      <th>county</th>\n",
       "      <th>precip_mm</th>\n",
       "      <th>temp_min_celsius</th>\n",
       "      <th>temp_mean_celsius</th>\n",
       "      <th>temp_max_celsius</th>\n",
       "      <th>case_count</th>\n",
       "      <th>longitude_west</th>\n",
       "      <th>latitude_north</th>\n",
       "      <th>region</th>\n",
       "      <th>month</th>\n",
       "      <th>season</th>\n",
       "      <th>Year</th>\n",
       "      <th>Population</th>\n",
       "      <th>cases_per_100k</th>\n",
       "    </tr>\n",
       "    <tr>\n",
       "      <th>date</th>\n",
       "      <th></th>\n",
       "      <th></th>\n",
       "      <th></th>\n",
       "      <th></th>\n",
       "      <th></th>\n",
       "      <th></th>\n",
       "      <th></th>\n",
       "      <th></th>\n",
       "      <th></th>\n",
       "      <th></th>\n",
       "      <th></th>\n",
       "      <th></th>\n",
       "      <th></th>\n",
       "      <th></th>\n",
       "    </tr>\n",
       "  </thead>\n",
       "  <tbody>\n",
       "    <tr>\n",
       "      <th>2006-01-07</th>\n",
       "      <td>Alameda</td>\n",
       "      <td>9.561429</td>\n",
       "      <td>5.457143</td>\n",
       "      <td>10.342857</td>\n",
       "      <td>15.228571</td>\n",
       "      <td>0</td>\n",
       "      <td>122</td>\n",
       "      <td>37</td>\n",
       "      <td>3</td>\n",
       "      <td>1</td>\n",
       "      <td>1</td>\n",
       "      <td>2006</td>\n",
       "      <td>1462371</td>\n",
       "      <td>0.0</td>\n",
       "    </tr>\n",
       "    <tr>\n",
       "      <th>2006-01-14</th>\n",
       "      <td>Alameda</td>\n",
       "      <td>1.148571</td>\n",
       "      <td>3.728571</td>\n",
       "      <td>9.557143</td>\n",
       "      <td>15.385714</td>\n",
       "      <td>0</td>\n",
       "      <td>122</td>\n",
       "      <td>37</td>\n",
       "      <td>3</td>\n",
       "      <td>1</td>\n",
       "      <td>1</td>\n",
       "      <td>2006</td>\n",
       "      <td>1462371</td>\n",
       "      <td>0.0</td>\n",
       "    </tr>\n",
       "    <tr>\n",
       "      <th>2006-01-21</th>\n",
       "      <td>Alameda</td>\n",
       "      <td>3.211429</td>\n",
       "      <td>2.857143</td>\n",
       "      <td>8.000000</td>\n",
       "      <td>13.114286</td>\n",
       "      <td>0</td>\n",
       "      <td>122</td>\n",
       "      <td>37</td>\n",
       "      <td>3</td>\n",
       "      <td>1</td>\n",
       "      <td>1</td>\n",
       "      <td>2006</td>\n",
       "      <td>1462371</td>\n",
       "      <td>0.0</td>\n",
       "    </tr>\n",
       "    <tr>\n",
       "      <th>2006-01-28</th>\n",
       "      <td>Alameda</td>\n",
       "      <td>0.437143</td>\n",
       "      <td>3.257143</td>\n",
       "      <td>8.657143</td>\n",
       "      <td>14.100000</td>\n",
       "      <td>0</td>\n",
       "      <td>122</td>\n",
       "      <td>37</td>\n",
       "      <td>3</td>\n",
       "      <td>1</td>\n",
       "      <td>1</td>\n",
       "      <td>2006</td>\n",
       "      <td>1462371</td>\n",
       "      <td>0.0</td>\n",
       "    </tr>\n",
       "    <tr>\n",
       "      <th>2006-02-04</th>\n",
       "      <td>Alameda</td>\n",
       "      <td>2.841429</td>\n",
       "      <td>6.414286</td>\n",
       "      <td>11.185714</td>\n",
       "      <td>15.928571</td>\n",
       "      <td>0</td>\n",
       "      <td>122</td>\n",
       "      <td>37</td>\n",
       "      <td>3</td>\n",
       "      <td>2</td>\n",
       "      <td>1</td>\n",
       "      <td>2006</td>\n",
       "      <td>1462371</td>\n",
       "      <td>0.0</td>\n",
       "    </tr>\n",
       "  </tbody>\n",
       "</table>\n",
       "</div>\n",
       "      <button class=\"colab-df-convert\" onclick=\"convertToInteractive('df-9a2dd1ad-fea1-45bc-9d22-a7b2f4b8b2ae')\"\n",
       "              title=\"Convert this dataframe to an interactive table.\"\n",
       "              style=\"display:none;\">\n",
       "        \n",
       "  <svg xmlns=\"http://www.w3.org/2000/svg\" height=\"24px\"viewBox=\"0 0 24 24\"\n",
       "       width=\"24px\">\n",
       "    <path d=\"M0 0h24v24H0V0z\" fill=\"none\"/>\n",
       "    <path d=\"M18.56 5.44l.94 2.06.94-2.06 2.06-.94-2.06-.94-.94-2.06-.94 2.06-2.06.94zm-11 1L8.5 8.5l.94-2.06 2.06-.94-2.06-.94L8.5 2.5l-.94 2.06-2.06.94zm10 10l.94 2.06.94-2.06 2.06-.94-2.06-.94-.94-2.06-.94 2.06-2.06.94z\"/><path d=\"M17.41 7.96l-1.37-1.37c-.4-.4-.92-.59-1.43-.59-.52 0-1.04.2-1.43.59L10.3 9.45l-7.72 7.72c-.78.78-.78 2.05 0 2.83L4 21.41c.39.39.9.59 1.41.59.51 0 1.02-.2 1.41-.59l7.78-7.78 2.81-2.81c.8-.78.8-2.07 0-2.86zM5.41 20L4 18.59l7.72-7.72 1.47 1.35L5.41 20z\"/>\n",
       "  </svg>\n",
       "      </button>\n",
       "      \n",
       "  <style>\n",
       "    .colab-df-container {\n",
       "      display:flex;\n",
       "      flex-wrap:wrap;\n",
       "      gap: 12px;\n",
       "    }\n",
       "\n",
       "    .colab-df-convert {\n",
       "      background-color: #E8F0FE;\n",
       "      border: none;\n",
       "      border-radius: 50%;\n",
       "      cursor: pointer;\n",
       "      display: none;\n",
       "      fill: #1967D2;\n",
       "      height: 32px;\n",
       "      padding: 0 0 0 0;\n",
       "      width: 32px;\n",
       "    }\n",
       "\n",
       "    .colab-df-convert:hover {\n",
       "      background-color: #E2EBFA;\n",
       "      box-shadow: 0px 1px 2px rgba(60, 64, 67, 0.3), 0px 1px 3px 1px rgba(60, 64, 67, 0.15);\n",
       "      fill: #174EA6;\n",
       "    }\n",
       "\n",
       "    [theme=dark] .colab-df-convert {\n",
       "      background-color: #3B4455;\n",
       "      fill: #D2E3FC;\n",
       "    }\n",
       "\n",
       "    [theme=dark] .colab-df-convert:hover {\n",
       "      background-color: #434B5C;\n",
       "      box-shadow: 0px 1px 3px 1px rgba(0, 0, 0, 0.15);\n",
       "      filter: drop-shadow(0px 1px 2px rgba(0, 0, 0, 0.3));\n",
       "      fill: #FFFFFF;\n",
       "    }\n",
       "  </style>\n",
       "\n",
       "      <script>\n",
       "        const buttonEl =\n",
       "          document.querySelector('#df-9a2dd1ad-fea1-45bc-9d22-a7b2f4b8b2ae button.colab-df-convert');\n",
       "        buttonEl.style.display =\n",
       "          google.colab.kernel.accessAllowed ? 'block' : 'none';\n",
       "\n",
       "        async function convertToInteractive(key) {\n",
       "          const element = document.querySelector('#df-9a2dd1ad-fea1-45bc-9d22-a7b2f4b8b2ae');\n",
       "          const dataTable =\n",
       "            await google.colab.kernel.invokeFunction('convertToInteractive',\n",
       "                                                     [key], {});\n",
       "          if (!dataTable) return;\n",
       "\n",
       "          const docLinkHtml = 'Like what you see? Visit the ' +\n",
       "            '<a target=\"_blank\" href=https://colab.research.google.com/notebooks/data_table.ipynb>data table notebook</a>'\n",
       "            + ' to learn more about interactive tables.';\n",
       "          element.innerHTML = '';\n",
       "          dataTable['output_type'] = 'display_data';\n",
       "          await google.colab.output.renderOutput(dataTable, element);\n",
       "          const docLink = document.createElement('div');\n",
       "          docLink.innerHTML = docLinkHtml;\n",
       "          element.appendChild(docLink);\n",
       "        }\n",
       "      </script>\n",
       "    </div>\n",
       "  </div>\n",
       "  "
      ],
      "text/plain": [
       "             county  precip_mm  ...  Population  cases_per_100k\n",
       "date                            ...                            \n",
       "2006-01-07  Alameda   9.561429  ...     1462371             0.0\n",
       "2006-01-14  Alameda   1.148571  ...     1462371             0.0\n",
       "2006-01-21  Alameda   3.211429  ...     1462371             0.0\n",
       "2006-01-28  Alameda   0.437143  ...     1462371             0.0\n",
       "2006-02-04  Alameda   2.841429  ...     1462371             0.0\n",
       "\n",
       "[5 rows x 14 columns]"
      ]
     },
     "execution_count": 10,
     "metadata": {},
     "output_type": "execute_result"
    }
   ],
   "source": [
    "df.head()"
   ]
  },
  {
   "cell_type": "code",
   "execution_count": null,
   "metadata": {
    "id": "zLAjfNaB9fnF"
   },
   "outputs": [],
   "source": [
    "df_county=df_county.groupby(['county'])['case_count'].sum()\n",
    "df_year=df_year.groupby(['Year'])['case_count'].sum()\n",
    "df_month=df_month.groupby(['month'])['case_count'].sum()"
   ]
  },
  {
   "cell_type": "code",
   "execution_count": null,
   "metadata": {
    "colab": {
     "base_uri": "https://localhost:8080/",
     "height": 412
    },
    "id": "5eav1wYMuBqZ",
    "outputId": "62f0db80-6af7-4899-cc25-85ebebd474a3"
   },
   "outputs": [
    {
     "data": {
      "text/plain": [
       "<matplotlib.axes._subplots.AxesSubplot at 0x7f2642b6e050>"
      ]
     },
     "execution_count": 134,
     "metadata": {},
     "output_type": "execute_result"
    },
    {
     "data": {
      "image/png": "[encoded data removed]",
      "text/plain": [
       "<Figure size 864x432 with 1 Axes>"
      ]
     },
     "metadata": {
      "needs_background": "light"
     },
     "output_type": "display_data"
    }
   ],
   "source": [
    "df_month.plot(kind='bar', figsize=(12,6))"
   ]
  },
  {
   "cell_type": "code",
   "execution_count": null,
   "metadata": {
    "colab": {
     "base_uri": "https://localhost:8080/",
     "height": 427
    },
    "id": "J9OIC46rtAX4",
    "outputId": "158ed32e-eed2-4e5d-dc95-a7cc8943daa1"
   },
   "outputs": [
    {
     "data": {
      "text/plain": [
       "<matplotlib.axes._subplots.AxesSubplot at 0x7f2642ba9450>"
      ]
     },
     "execution_count": 135,
     "metadata": {},
     "output_type": "execute_result"
    },
    {
     "data": {
      "image/png": "[encoded data removed]",
      "text/plain": [
       "<Figure size 864x432 with 1 Axes>"
      ]
     },
     "metadata": {
      "needs_background": "light"
     },
     "output_type": "display_data"
    }
   ],
   "source": [
    "df_year.plot(kind='bar', figsize=(12,6))"
   ]
  },
  {
   "cell_type": "code",
   "execution_count": null,
   "metadata": {
    "id": "fF0xrEKw-RbJ"
   },
   "outputs": [],
   "source": [
    "df_county=df_county.sort_values(ascending=False)"
   ]
  },
  {
   "cell_type": "code",
   "execution_count": null,
   "metadata": {
    "colab": {
     "base_uri": "https://localhost:8080/",
     "height": 492
    },
    "id": "fNBfnb9B_GVs",
    "outputId": "93df98e7-9ef0-4d5c-8071-1f9fde187149"
   },
   "outputs": [
    {
     "data": {
      "text/plain": [
       "<matplotlib.axes._subplots.AxesSubplot at 0x7f26436e35d0>"
      ]
     },
     "execution_count": 137,
     "metadata": {},
     "output_type": "execute_result"
    },
    {
     "data": {
      "image/png": "[encoded data removed]",
      "text/plain": [
       "<Figure size 864x432 with 1 Axes>"
      ]
     },
     "metadata": {
      "needs_background": "light"
     },
     "output_type": "display_data"
    }
   ],
   "source": [
    "df_county.plot(kind='bar', figsize=(12,6))"
   ]
  },
  {
   "cell_type": "markdown",
   "metadata": {
    "id": "i2qj_ztKzjct"
   },
   "source": [
    "Segmenting Data and Preparing for Analysis"
   ]
  },
  {
   "cell_type": "code",
   "execution_count": null,
   "metadata": {
    "colab": {
     "base_uri": "https://localhost:8080/"
    },
    "id": "MD2WME3zAqKr",
    "outputId": "d0151ff9-f473-4035-f6b9-f2ab2e915338"
   },
   "outputs": [
    {
     "data": {
      "text/plain": [
       "county\n",
       "Los Angeles       1730\n",
       "Orange             603\n",
       "Kern               409\n",
       "Riverside          362\n",
       "Stanislaus         298\n",
       "Fresno             254\n",
       "San Bernardino     245\n",
       "Butte              225\n",
       "Sacramento         176\n",
       "Tulare             156\n",
       "San Diego          135\n",
       "San Joaquin        134\n",
       "Yolo               107\n",
       "Glenn               79\n",
       "Placer              66\n",
       "Merced              60\n",
       "Contra Costa        59\n",
       "Sutter              59\n",
       "Yuba                52\n",
       "Madera              44\n",
       "Name: case_count, dtype: int64"
      ]
     },
     "execution_count": 138,
     "metadata": {},
     "output_type": "execute_result"
    }
   ],
   "source": [
    "df_county.head(20)"
   ]
  },
  {
   "cell_type": "code",
   "execution_count": null,
   "metadata": {
    "colab": {
     "base_uri": "https://localhost:8080/"
    },
    "id": "yPOe6X7z-iJj",
    "outputId": "aae8d8d8-7ff8-4ed4-b369-da15c3235eb3"
   },
   "outputs": [
    {
     "data": {
      "text/plain": [
       "county\n",
       "Los Angeles       1730\n",
       "Orange             603\n",
       "Kern               409\n",
       "Riverside          362\n",
       "Stanislaus         298\n",
       "Fresno             254\n",
       "San Bernardino     245\n",
       "Butte              225\n",
       "Sacramento         176\n",
       "Tulare             156\n",
       "San Diego          135\n",
       "San Joaquin        134\n",
       "Yolo               107\n",
       "Glenn               79\n",
       "Placer              66\n",
       "Merced              60\n",
       "Contra Costa        59\n",
       "Sutter              59\n",
       "Yuba                52\n",
       "Madera              44\n",
       "Kings               41\n",
       "Tehama              38\n",
       "Santa Clara         34\n",
       "Ventura             32\n",
       "Shasta              27\n",
       "Name: case_count, dtype: int64"
      ]
     },
     "execution_count": 139,
     "metadata": {},
     "output_type": "execute_result"
    }
   ],
   "source": [
    "df_county.head(25)"
   ]
  },
  {
   "cell_type": "code",
   "execution_count": null,
   "metadata": {
    "id": "ejXGx5PgD7sD"
   },
   "outputs": [],
   "source": [
    "df_county=df_county.to_frame()"
   ]
  },
  {
   "cell_type": "code",
   "execution_count": null,
   "metadata": {
    "id": "HG2eQhD1FUhn"
   },
   "outputs": [],
   "source": [
    "df_county = df_county[(df_county['case_count']>40)].reset_index()"
   ]
  },
  {
   "cell_type": "code",
   "execution_count": null,
   "metadata": {
    "id": "PDnWgsGGFsgW"
   },
   "outputs": [],
   "source": [
    "counties = df_county['county'].tolist()"
   ]
  },
  {
   "cell_type": "code",
   "execution_count": null,
   "metadata": {
    "colab": {
     "base_uri": "https://localhost:8080/"
    },
    "id": "5qpkaxo0GAz8",
    "outputId": "bebbce43-d039-47fd-b5bc-c5204d68bbc0"
   },
   "outputs": [
    {
     "data": {
      "text/plain": [
       "['Los Angeles',\n",
       " 'Orange',\n",
       " 'Kern',\n",
       " 'Riverside',\n",
       " 'Stanislaus',\n",
       " 'Fresno',\n",
       " 'San Bernardino',\n",
       " 'Butte',\n",
       " 'Sacramento',\n",
       " 'Tulare',\n",
       " 'San Diego',\n",
       " 'San Joaquin',\n",
       " 'Yolo',\n",
       " 'Glenn',\n",
       " 'Placer',\n",
       " 'Merced',\n",
       " 'Contra Costa',\n",
       " 'Sutter',\n",
       " 'Yuba',\n",
       " 'Madera',\n",
       " 'Kings']"
      ]
     },
     "execution_count": 143,
     "metadata": {},
     "output_type": "execute_result"
    }
   ],
   "source": [
    "counties"
   ]
  },
  {
   "cell_type": "code",
   "execution_count": null,
   "metadata": {
    "id": "cnk-vKRDGGQi"
   },
   "outputs": [],
   "source": [
    "df_top20=df[(df['county'].isin(counties))]"
   ]
  },
  {
   "cell_type": "code",
   "execution_count": null,
   "metadata": {
    "id": "GOyfPTpADlWN"
   },
   "outputs": [],
   "source": [
    "df=df.drop(['county','temp_min_celsius','temp_max_celsius','longitude_west','latitude_north','region','season','month'],axis=1)\n",
    "df_top20=df_top20.drop(['county','temp_min_celsius','temp_max_celsius','longitude_west','latitude_north','region','season','month'],axis=1)"
   ]
  },
  {
   "cell_type": "code",
   "execution_count": null,
   "metadata": {
    "id": "JcCxsIHDMzF2"
   },
   "outputs": [],
   "source": [
    "#Convert to Monthly\n",
    "df = df.resample('M').agg({\"precip_mm\":'sum',\"temp_mean_celsius\":'mean',\"case_count\":'sum',\"cases_per_100k\":'sum'})\n",
    "df_top20 = df_top20.resample('M').agg({\"precip_mm\":'sum',\"temp_mean_celsius\":'mean',\"case_count\":'sum',\"cases_per_100k\":'sum'})"
   ]
  },
  {
   "cell_type": "code",
   "execution_count": null,
   "metadata": {
    "id": "XiVU4vmlox2G"
   },
   "outputs": [],
   "source": [
    "#df.to_csv('/content/drive/My Drive/DS4A/resampled.csv')"
   ]
  },
  {
   "cell_type": "code",
   "execution_count": null,
   "metadata": {
    "id": "p1q6QCRCIMcg"
   },
   "outputs": [],
   "source": [
    "df['case_count']=df['case_count'].shift(2)\n",
    "df_top20['case_count']=df_top20['case_count'].shift(2)"
   ]
  },
  {
   "cell_type": "code",
   "execution_count": null,
   "metadata": {
    "id": "itJsem7wJLKW"
   },
   "outputs": [],
   "source": [
    "df['cases_per_100k']=df['cases_per_100k'].shift(2)\n",
    "df_top20['cases_per_100k']=df_top20['cases_per_100k'].shift(2)"
   ]
  },
  {
   "cell_type": "code",
   "execution_count": null,
   "metadata": {
    "colab": {
     "base_uri": "https://localhost:8080/",
     "height": 237
    },
    "id": "OBnMFQ_V89vB",
    "outputId": "5b403fcb-91f7-430d-84d9-3637a23d56ff"
   },
   "outputs": [
    {
     "data": {
      "text/html": [
       "\n",
       "  <div id=\"df-b24ebaf5-d684-4f6a-be73-15faf826cdcb\">\n",
       "    <div class=\"colab-df-container\">\n",
       "      <div>\n",
       "<style scoped>\n",
       "    .dataframe tbody tr th:only-of-type {\n",
       "        vertical-align: middle;\n",
       "    }\n",
       "\n",
       "    .dataframe tbody tr th {\n",
       "        vertical-align: top;\n",
       "    }\n",
       "\n",
       "    .dataframe thead th {\n",
       "        text-align: right;\n",
       "    }\n",
       "</style>\n",
       "<table border=\"1\" class=\"dataframe\">\n",
       "  <thead>\n",
       "    <tr style=\"text-align: right;\">\n",
       "      <th></th>\n",
       "      <th>precip_mm</th>\n",
       "      <th>temp_mean_celsius</th>\n",
       "      <th>case_count</th>\n",
       "      <th>cases_per_100k</th>\n",
       "    </tr>\n",
       "    <tr>\n",
       "      <th>date</th>\n",
       "      <th></th>\n",
       "      <th></th>\n",
       "      <th></th>\n",
       "      <th></th>\n",
       "    </tr>\n",
       "  </thead>\n",
       "  <tbody>\n",
       "    <tr>\n",
       "      <th>2006-01-31</th>\n",
       "      <td>1218.532857</td>\n",
       "      <td>7.282204</td>\n",
       "      <td>NaN</td>\n",
       "      <td>NaN</td>\n",
       "    </tr>\n",
       "    <tr>\n",
       "      <th>2006-02-28</th>\n",
       "      <td>386.431429</td>\n",
       "      <td>8.541318</td>\n",
       "      <td>NaN</td>\n",
       "      <td>NaN</td>\n",
       "    </tr>\n",
       "    <tr>\n",
       "      <th>2006-03-31</th>\n",
       "      <td>1749.885714</td>\n",
       "      <td>6.448892</td>\n",
       "      <td>0.0</td>\n",
       "      <td>0.0</td>\n",
       "    </tr>\n",
       "    <tr>\n",
       "      <th>2006-04-30</th>\n",
       "      <td>1712.724286</td>\n",
       "      <td>10.255616</td>\n",
       "      <td>0.0</td>\n",
       "      <td>0.0</td>\n",
       "    </tr>\n",
       "    <tr>\n",
       "      <th>2006-05-31</th>\n",
       "      <td>196.010000</td>\n",
       "      <td>17.492365</td>\n",
       "      <td>0.0</td>\n",
       "      <td>0.0</td>\n",
       "    </tr>\n",
       "  </tbody>\n",
       "</table>\n",
       "</div>\n",
       "      <button class=\"colab-df-convert\" onclick=\"convertToInteractive('df-b24ebaf5-d684-4f6a-be73-15faf826cdcb')\"\n",
       "              title=\"Convert this dataframe to an interactive table.\"\n",
       "              style=\"display:none;\">\n",
       "        \n",
       "  <svg xmlns=\"http://www.w3.org/2000/svg\" height=\"24px\"viewBox=\"0 0 24 24\"\n",
       "       width=\"24px\">\n",
       "    <path d=\"M0 0h24v24H0V0z\" fill=\"none\"/>\n",
       "    <path d=\"M18.56 5.44l.94 2.06.94-2.06 2.06-.94-2.06-.94-.94-2.06-.94 2.06-2.06.94zm-11 1L8.5 8.5l.94-2.06 2.06-.94-2.06-.94L8.5 2.5l-.94 2.06-2.06.94zm10 10l.94 2.06.94-2.06 2.06-.94-2.06-.94-.94-2.06-.94 2.06-2.06.94z\"/><path d=\"M17.41 7.96l-1.37-1.37c-.4-.4-.92-.59-1.43-.59-.52 0-1.04.2-1.43.59L10.3 9.45l-7.72 7.72c-.78.78-.78 2.05 0 2.83L4 21.41c.39.39.9.59 1.41.59.51 0 1.02-.2 1.41-.59l7.78-7.78 2.81-2.81c.8-.78.8-2.07 0-2.86zM5.41 20L4 18.59l7.72-7.72 1.47 1.35L5.41 20z\"/>\n",
       "  </svg>\n",
       "      </button>\n",
       "      \n",
       "  <style>\n",
       "    .colab-df-container {\n",
       "      display:flex;\n",
       "      flex-wrap:wrap;\n",
       "      gap: 12px;\n",
       "    }\n",
       "\n",
       "    .colab-df-convert {\n",
       "      background-color: #E8F0FE;\n",
       "      border: none;\n",
       "      border-radius: 50%;\n",
       "      cursor: pointer;\n",
       "      display: none;\n",
       "      fill: #1967D2;\n",
       "      height: 32px;\n",
       "      padding: 0 0 0 0;\n",
       "      width: 32px;\n",
       "    }\n",
       "\n",
       "    .colab-df-convert:hover {\n",
       "      background-color: #E2EBFA;\n",
       "      box-shadow: 0px 1px 2px rgba(60, 64, 67, 0.3), 0px 1px 3px 1px rgba(60, 64, 67, 0.15);\n",
       "      fill: #174EA6;\n",
       "    }\n",
       "\n",
       "    [theme=dark] .colab-df-convert {\n",
       "      background-color: #3B4455;\n",
       "      fill: #D2E3FC;\n",
       "    }\n",
       "\n",
       "    [theme=dark] .colab-df-convert:hover {\n",
       "      background-color: #434B5C;\n",
       "      box-shadow: 0px 1px 3px 1px rgba(0, 0, 0, 0.15);\n",
       "      filter: drop-shadow(0px 1px 2px rgba(0, 0, 0, 0.3));\n",
       "      fill: #FFFFFF;\n",
       "    }\n",
       "  </style>\n",
       "\n",
       "      <script>\n",
       "        const buttonEl =\n",
       "          document.querySelector('#df-b24ebaf5-d684-4f6a-be73-15faf826cdcb button.colab-df-convert');\n",
       "        buttonEl.style.display =\n",
       "          google.colab.kernel.accessAllowed ? 'block' : 'none';\n",
       "\n",
       "        async function convertToInteractive(key) {\n",
       "          const element = document.querySelector('#df-b24ebaf5-d684-4f6a-be73-15faf826cdcb');\n",
       "          const dataTable =\n",
       "            await google.colab.kernel.invokeFunction('convertToInteractive',\n",
       "                                                     [key], {});\n",
       "          if (!dataTable) return;\n",
       "\n",
       "          const docLinkHtml = 'Like what you see? Visit the ' +\n",
       "            '<a target=\"_blank\" href=https://colab.research.google.com/notebooks/data_table.ipynb>data table notebook</a>'\n",
       "            + ' to learn more about interactive tables.';\n",
       "          element.innerHTML = '';\n",
       "          dataTable['output_type'] = 'display_data';\n",
       "          await google.colab.output.renderOutput(dataTable, element);\n",
       "          const docLink = document.createElement('div');\n",
       "          docLink.innerHTML = docLinkHtml;\n",
       "          element.appendChild(docLink);\n",
       "        }\n",
       "      </script>\n",
       "    </div>\n",
       "  </div>\n",
       "  "
      ],
      "text/plain": [
       "              precip_mm  temp_mean_celsius  case_count  cases_per_100k\n",
       "date                                                                  \n",
       "2006-01-31  1218.532857           7.282204         NaN             NaN\n",
       "2006-02-28   386.431429           8.541318         NaN             NaN\n",
       "2006-03-31  1749.885714           6.448892         0.0             0.0\n",
       "2006-04-30  1712.724286          10.255616         0.0             0.0\n",
       "2006-05-31   196.010000          17.492365         0.0             0.0"
      ]
     },
     "execution_count": 25,
     "metadata": {},
     "output_type": "execute_result"
    }
   ],
   "source": [
    "df.head()"
   ]
  },
  {
   "cell_type": "markdown",
   "metadata": {
    "id": "hOu9v6xtEAId"
   },
   "source": [
    "SARIMAX Model\n",
    "https://towardsdatascience.com/how-to-forecast-sales-with-python-using-sarima-model-ba600992fa7d"
   ]
  },
  {
   "cell_type": "code",
   "execution_count": null,
   "metadata": {
    "id": "n8QMtJIVEDMQ"
   },
   "outputs": [],
   "source": [
    "import warnings\n",
    "import itertools\n",
    "import numpy as np\n",
    "import matplotlib.pyplot as plt\n",
    "warnings.filterwarnings(\"ignore\")\n",
    "plt.style.use('fivethirtyeight')\n",
    "import pandas as pd\n",
    "import statsmodels.api as sm\n",
    "import matplotlib\n",
    "matplotlib.rcParams['axes.labelsize'] = 14\n",
    "matplotlib.rcParams['xtick.labelsize'] = 12\n",
    "matplotlib.rcParams['ytick.labelsize'] = 12\n",
    "matplotlib.rcParams['text.color'] = 'G'"
   ]
  },
  {
   "cell_type": "code",
   "execution_count": null,
   "metadata": {
    "colab": {
     "base_uri": "https://localhost:8080/"
    },
    "id": "nrAlETdx6Tmn",
    "outputId": "7f7ccbbc-9f92-4e64-fc91-9356d760aea0"
   },
   "outputs": [
    {
     "name": "stdout",
     "output_type": "stream",
     "text": [
      "Examples of parameter for SARIMA...\n",
      "SARIMAX: (0, 0, 1) x (0, 0, 1, 12)\n",
      "SARIMAX: (0, 0, 1) x (0, 1, 0, 12)\n",
      "SARIMAX: (0, 1, 0) x (0, 1, 1, 12)\n",
      "SARIMAX: (0, 1, 0) x (1, 0, 0, 12)\n"
     ]
    }
   ],
   "source": [
    "p = d = q = range(0, 2)\n",
    "pdq = list(itertools.product(p, d, q))\n",
    "seasonal_pdq = [(x[0], x[1], x[2], 12) for x in list(itertools.product(p, d, q))]\n",
    "print('Examples of parameter for SARIMA...')\n",
    "print('SARIMAX: {} x {}'.format(pdq[1], seasonal_pdq[1]))\n",
    "print('SARIMAX: {} x {}'.format(pdq[1], seasonal_pdq[2]))\n",
    "print('SARIMAX: {} x {}'.format(pdq[2], seasonal_pdq[3]))\n",
    "print('SARIMAX: {} x {}'.format(pdq[2], seasonal_pdq[4]))"
   ]
  },
  {
   "cell_type": "code",
   "execution_count": null,
   "metadata": {
    "id": "9vVoaigUFTRY"
   },
   "outputs": [],
   "source": [
    "endog = df.loc[:'2020', 'case_count']\n",
    "endog2 = df.loc[:'2020', 'cases_per_100k']\n",
    "exog = sm.add_constant(df.loc[:'2020', (\"precip_mm\",\"temp_mean_celsius\")])\n",
    "exog2 = sm.add_constant(df.loc[:'2020', (\"temp_mean_celsius\")])\n",
    "nobs = endog.shape[0]"
   ]
  },
  {
   "cell_type": "code",
   "execution_count": null,
   "metadata": {
    "id": "4B6UVKVNxhuK"
   },
   "outputs": [],
   "source": [
    "endog = df['case_count']\n",
    "endog2 = df['cases_per_100k']\n",
    "exog = sm.add_constant(df[[\"precip_mm\",\"temp_mean_celsius\"]])\n",
    "exog2 = sm.add_constant(df[\"temp_mean_celsius\"])\n",
    "nobs = endog.shape[0]"
   ]
  },
  {
   "cell_type": "code",
   "execution_count": null,
   "metadata": {
    "colab": {
     "base_uri": "https://localhost:8080/"
    },
    "id": "XxaUbMLoq5nv",
    "outputId": "c617a9a1-4791-4983-bc93-d80a635408a3"
   },
   "outputs": [
    {
     "name": "stdout",
     "output_type": "stream",
     "text": [
      "ARIMA(0, 0, 0)x(0, 0, 0, 12)12 - AIC:1769.6500619448404\n",
      "ARIMA(0, 0, 0)x(0, 0, 1, 12)12 - AIC:1602.7924843717087\n",
      "ARIMA(0, 0, 0)x(0, 1, 0, 12)12 - AIC:1561.7483563791106\n",
      "ARIMA(0, 0, 0)x(0, 1, 1, 12)12 - AIC:1430.433126425973\n",
      "ARIMA(0, 0, 0)x(1, 0, 0, 12)12 - AIC:1562.3353223131176\n",
      "ARIMA(0, 0, 0)x(1, 0, 1, 12)12 - AIC:1541.8406035278658\n",
      "ARIMA(0, 0, 0)x(1, 1, 0, 12)12 - AIC:1441.615284050641\n",
      "ARIMA(0, 0, 0)x(1, 1, 1, 12)12 - AIC:1432.5528006138031\n",
      "ARIMA(0, 0, 1)x(0, 0, 0, 12)12 - AIC:1686.235467775054\n",
      "ARIMA(0, 0, 1)x(0, 0, 1, 12)12 - AIC:1528.8475795264708\n",
      "ARIMA(0, 0, 1)x(0, 1, 0, 12)12 - AIC:1501.5722196138167\n",
      "ARIMA(0, 0, 1)x(0, 1, 1, 12)12 - AIC:1367.6721185631714\n",
      "ARIMA(0, 0, 1)x(1, 0, 0, 12)12 - AIC:1510.4907557408014\n",
      "ARIMA(0, 0, 1)x(1, 0, 1, 12)12 - AIC:1471.4606891135054\n",
      "ARIMA(0, 0, 1)x(1, 1, 0, 12)12 - AIC:1388.4950987083532\n",
      "ARIMA(0, 0, 1)x(1, 1, 1, 12)12 - AIC:1366.723497780125\n",
      "ARIMA(0, 1, 0)x(0, 0, 0, 12)12 - AIC:1698.3424706494375\n",
      "ARIMA(0, 1, 0)x(0, 0, 1, 12)12 - AIC:1536.9987850789837\n",
      "ARIMA(0, 1, 0)x(0, 1, 0, 12)12 - AIC:1529.9727804654303\n",
      "ARIMA(0, 1, 0)x(0, 1, 1, 12)12 - AIC:1374.2864956653552\n",
      "ARIMA(0, 1, 0)x(1, 0, 0, 12)12 - AIC:1513.9080264471531\n",
      "ARIMA(0, 1, 0)x(1, 0, 1, 12)12 - AIC:1485.2335655458085\n",
      "ARIMA(0, 1, 0)x(1, 1, 0, 12)12 - AIC:1385.82093213394\n",
      "ARIMA(0, 1, 0)x(1, 1, 1, 12)12 - AIC:1374.875088858896\n",
      "ARIMA(0, 1, 1)x(0, 0, 0, 12)12 - AIC:1681.9508248232944\n",
      "ARIMA(0, 1, 1)x(0, 0, 1, 12)12 - AIC:1530.01596456566\n",
      "ARIMA(0, 1, 1)x(0, 1, 0, 12)12 - AIC:1508.1866605062883\n",
      "ARIMA(0, 1, 1)x(0, 1, 1, 12)12 - AIC:1365.853278325963\n",
      "ARIMA(0, 1, 1)x(1, 0, 0, 12)12 - AIC:1512.6919392117145\n",
      "ARIMA(0, 1, 1)x(1, 0, 1, 12)12 - AIC:1469.231032235368\n",
      "ARIMA(0, 1, 1)x(1, 1, 0, 12)12 - AIC:1386.3130779387081\n",
      "ARIMA(0, 1, 1)x(1, 1, 1, 12)12 - AIC:1363.1535041780028\n",
      "ARIMA(1, 0, 0)x(0, 0, 0, 12)12 - AIC:1669.3219967539553\n",
      "ARIMA(1, 0, 0)x(0, 0, 1, 12)12 - AIC:1519.415603099471\n",
      "ARIMA(1, 0, 0)x(0, 1, 0, 12)12 - AIC:1504.8711859195976\n",
      "ARIMA(1, 0, 0)x(0, 1, 1, 12)12 - AIC:1359.3750395333059\n",
      "ARIMA(1, 0, 0)x(1, 0, 0, 12)12 - AIC:1482.2759128050698\n",
      "ARIMA(1, 0, 0)x(1, 0, 1, 12)12 - AIC:1470.6696732689106\n",
      "ARIMA(1, 0, 0)x(1, 1, 0, 12)12 - AIC:1359.072747159034\n",
      "ARIMA(1, 0, 0)x(1, 1, 1, 12)12 - AIC:1360.8352589001938\n",
      "ARIMA(1, 0, 1)x(0, 0, 0, 12)12 - AIC:1661.69295584774\n",
      "ARIMA(1, 0, 1)x(0, 0, 1, 12)12 - AIC:1507.7521525981388\n",
      "ARIMA(1, 0, 1)x(0, 1, 0, 12)12 - AIC:1491.053736096147\n",
      "ARIMA(1, 0, 1)x(0, 1, 1, 12)12 - AIC:1351.6758021696105\n",
      "ARIMA(1, 0, 1)x(1, 0, 0, 12)12 - AIC:1483.3925719099448\n",
      "ARIMA(1, 0, 1)x(1, 0, 1, 12)12 - AIC:1457.9003621532102\n",
      "ARIMA(1, 0, 1)x(1, 1, 0, 12)12 - AIC:1360.1325998452212\n",
      "ARIMA(1, 0, 1)x(1, 1, 1, 12)12 - AIC:1349.7368533986746\n",
      "ARIMA(1, 1, 0)x(0, 0, 0, 12)12 - AIC:1698.744590896188\n",
      "ARIMA(1, 1, 0)x(0, 0, 1, 12)12 - AIC:1538.9743844000914\n",
      "ARIMA(1, 1, 0)x(0, 1, 0, 12)12 - AIC:1525.3951921721757\n",
      "ARIMA(1, 1, 0)x(0, 1, 1, 12)12 - AIC:1375.0004570626945\n",
      "ARIMA(1, 1, 0)x(1, 0, 0, 12)12 - AIC:1499.188966871965\n",
      "ARIMA(1, 1, 0)x(1, 0, 1, 12)12 - AIC:1484.5498500250073\n",
      "ARIMA(1, 1, 0)x(1, 1, 0, 12)12 - AIC:1373.9924683337617\n",
      "ARIMA(1, 1, 0)x(1, 1, 1, 12)12 - AIC:1376.1940964735566\n",
      "ARIMA(1, 1, 1)x(0, 0, 0, 12)12 - AIC:1666.1976629695246\n",
      "ARIMA(1, 1, 1)x(0, 0, 1, 12)12 - AIC:1507.5671050389356\n",
      "ARIMA(1, 1, 1)x(0, 1, 0, 12)12 - AIC:1485.8172656747056\n",
      "ARIMA(1, 1, 1)x(0, 1, 1, 12)12 - AIC:1348.2280383810735\n",
      "ARIMA(1, 1, 1)x(1, 0, 0, 12)12 - AIC:1478.5341832785107\n",
      "ARIMA(1, 1, 1)x(1, 0, 1, 12)12 - AIC:1453.960830544521\n",
      "ARIMA(1, 1, 1)x(1, 1, 0, 12)12 - AIC:1355.250712735577\n",
      "ARIMA(1, 1, 1)x(1, 1, 1, 12)12 - AIC:1345.0401843726145\n"
     ]
    }
   ],
   "source": [
    "#Determining Model Parameters -- endog: total cases, exog: mean temp\n",
    "for param in pdq:\n",
    "    for param_seasonal in seasonal_pdq:\n",
    "        try:\n",
    "            mod = sm.tsa.statespace.SARIMAX(endog,exog=exog2, order=param,seasonal_order=param_seasonal,enforce_stationarity=False,enforce_invertibility=False)\n",
    "            results = mod.fit()\n",
    "            print('ARIMA{}x{}12 - AIC:{}'.format(param,param_seasonal,results.aic))\n",
    "        except: \n",
    "            continue"
   ]
  },
  {
   "cell_type": "code",
   "execution_count": null,
   "metadata": {
    "colab": {
     "base_uri": "https://localhost:8080/"
    },
    "id": "WsRxzDPgoClv",
    "outputId": "e4dfbec6-a39f-44bc-f9cb-6c34435013b2"
   },
   "outputs": [
    {
     "name": "stdout",
     "output_type": "stream",
     "text": [
      "                                 Statespace Model Results                                 \n",
      "==========================================================================================\n",
      "Dep. Variable:                         case_count   No. Observations:                  168\n",
      "Model:             SARIMAX(1, 1, 1)x(1, 1, 1, 12)   Log Likelihood                -665.520\n",
      "Date:                            Mon, 21 Feb 2022   AIC                           1345.040\n",
      "Time:                                    14:35:11   BIC                           1365.682\n",
      "Sample:                                01-31-2006   HQIC                          1353.428\n",
      "                                     - 12-31-2019                                         \n",
      "Covariance Type:                              opg                                         \n",
      "=====================================================================================\n",
      "                        coef    std err          z      P>|z|      [0.025      0.975]\n",
      "-------------------------------------------------------------------------------------\n",
      "const             -1.848e-05   3.95e+04  -4.68e-10      1.000   -7.75e+04    7.75e+04\n",
      "temp_mean_celsius     2.7012      1.660      1.627      0.104      -0.552       5.955\n",
      "ar.L1                 0.6718      0.067      9.977      0.000       0.540       0.804\n",
      "ma.L1                -1.0000     15.165     -0.066      0.947     -30.723      28.723\n",
      "ar.S.L12             -0.5256      0.119     -4.414      0.000      -0.759      -0.292\n",
      "ma.S.L12              0.0375      0.133      0.282      0.778      -0.223       0.298\n",
      "sigma2              719.5648    1.1e+04      0.066      0.948   -2.08e+04    2.22e+04\n",
      "===================================================================================\n",
      "Ljung-Box (Q):                       76.50   Jarque-Bera (JB):               160.70\n",
      "Prob(Q):                              0.00   Prob(JB):                         0.00\n",
      "Heteroskedasticity (H):               2.14   Skew:                             0.68\n",
      "Prob(H) (two-sided):                  0.01   Kurtosis:                         8.05\n",
      "===================================================================================\n",
      "\n",
      "Warnings:\n",
      "[1] Covariance matrix calculated using the outer product of gradients (complex-step).\n"
     ]
    }
   ],
   "source": [
    "#All Cases Model #1\n",
    "mod = sm.tsa.statespace.SARIMAX(endog, exog=exog2,\n",
    "                                order=(1,1,1),\n",
    "                                seasonal_order=(1,1,1,12),\n",
    "                                enforce_stationarity=False,\n",
    "                                enforce_invertibility=False)\n",
    "results = mod.fit()\n",
    "#print(results.summary().tables[1])\n",
    "print(results.summary())"
   ]
  },
  {
   "cell_type": "code",
   "execution_count": null,
   "metadata": {
    "colab": {
     "base_uri": "https://localhost:8080/"
    },
    "id": "fDwJeYwlFTDm",
    "outputId": "38b7a4e1-190f-40c5-d377-7f3315452854"
   },
   "outputs": [
    {
     "name": "stdout",
     "output_type": "stream",
     "text": [
      "                                 Statespace Model Results                                 \n",
      "==========================================================================================\n",
      "Dep. Variable:                         case_count   No. Observations:                  168\n",
      "Model:             SARIMAX(1, 1, 1)x(0, 1, 1, 12)   Log Likelihood                -668.114\n",
      "Date:                            Mon, 21 Feb 2022   AIC                           1348.228\n",
      "Time:                                    14:35:12   BIC                           1365.921\n",
      "Sample:                                01-31-2006   HQIC                          1355.418\n",
      "                                     - 12-31-2019                                         \n",
      "Covariance Type:                              opg                                         \n",
      "=====================================================================================\n",
      "                        coef    std err          z      P>|z|      [0.025      0.975]\n",
      "-------------------------------------------------------------------------------------\n",
      "const                -0.0002    4.2e+04  -4.06e-09      1.000   -8.22e+04    8.22e+04\n",
      "temp_mean_celsius     3.0279      1.844      1.642      0.101      -0.586       6.642\n",
      "ar.L1                 0.6479      0.071      9.140      0.000       0.509       0.787\n",
      "ma.L1                -0.9840      0.063    -15.731      0.000      -1.107      -0.861\n",
      "ma.S.L12             -0.5089      0.063     -8.018      0.000      -0.633      -0.385\n",
      "sigma2              746.8083     48.591     15.369      0.000     651.572     842.045\n",
      "===================================================================================\n",
      "Ljung-Box (Q):                       69.75   Jarque-Bera (JB):               202.27\n",
      "Prob(Q):                              0.00   Prob(JB):                         0.00\n",
      "Heteroskedasticity (H):               2.11   Skew:                             0.71\n",
      "Prob(H) (two-sided):                  0.01   Kurtosis:                         8.69\n",
      "===================================================================================\n",
      "\n",
      "Warnings:\n",
      "[1] Covariance matrix calculated using the outer product of gradients (complex-step).\n"
     ]
    }
   ],
   "source": [
    "#All Cases Model #2\n",
    "mod = sm.tsa.statespace.SARIMAX(endog, exog=exog2,\n",
    "                                order=(1,1,1),\n",
    "                                seasonal_order=(0,1,1,12),\n",
    "                                enforce_stationarity=False,\n",
    "                                enforce_invertibility=False)\n",
    "results = mod.fit()\n",
    "#print(results.summary().tables[1])\n",
    "print(results.summary())"
   ]
  },
  {
   "cell_type": "code",
   "execution_count": null,
   "metadata": {
    "colab": {
     "base_uri": "https://localhost:8080/"
    },
    "id": "tDA1mLwl5kUi",
    "outputId": "f59ed317-caa1-493e-e426-ed83c061eb2d"
   },
   "outputs": [
    {
     "name": "stdout",
     "output_type": "stream",
     "text": [
      "                                 Statespace Model Results                                 \n",
      "==========================================================================================\n",
      "Dep. Variable:                         case_count   No. Observations:                  168\n",
      "Model:             SARIMAX(1, 0, 1)x(1, 1, 1, 12)   Log Likelihood                -667.868\n",
      "Date:                            Mon, 21 Feb 2022   AIC                           1349.737\n",
      "Time:                                    14:35:13   BIC                           1370.428\n",
      "Sample:                                01-31-2006   HQIC                          1358.145\n",
      "                                     - 12-31-2019                                         \n",
      "Covariance Type:                              opg                                         \n",
      "=====================================================================================\n",
      "                        coef    std err          z      P>|z|      [0.025      0.975]\n",
      "-------------------------------------------------------------------------------------\n",
      "const              7.421e-05   7.14e+04   1.04e-09      1.000    -1.4e+05     1.4e+05\n",
      "temp_mean_celsius     3.1023      1.609      1.928      0.054      -0.052       6.257\n",
      "ar.L1                 0.5956      0.105      5.670      0.000       0.390       0.802\n",
      "ma.L1                 0.1183      0.135      0.875      0.382      -0.147       0.383\n",
      "ar.S.L12             -0.5219      0.114     -4.593      0.000      -0.745      -0.299\n",
      "ma.S.L12              0.0244      0.123      0.199      0.842      -0.216       0.265\n",
      "sigma2              709.7267     49.994     14.196      0.000     611.741     807.713\n",
      "===================================================================================\n",
      "Ljung-Box (Q):                       76.45   Jarque-Bera (JB):               169.19\n",
      "Prob(Q):                              0.00   Prob(JB):                         0.00\n",
      "Heteroskedasticity (H):               2.17   Skew:                             0.67\n",
      "Prob(H) (two-sided):                  0.01   Kurtosis:                         8.18\n",
      "===================================================================================\n",
      "\n",
      "Warnings:\n",
      "[1] Covariance matrix calculated using the outer product of gradients (complex-step).\n"
     ]
    }
   ],
   "source": [
    "#All Cases Model #3\n",
    "mod = sm.tsa.statespace.SARIMAX(endog, exog=exog2,\n",
    "                                order=(1,0,1),\n",
    "                                seasonal_order=(1,1,1,12),\n",
    "                                enforce_stationarity=False,\n",
    "                                enforce_invertibility=False)\n",
    "results = mod.fit()\n",
    "#print(results.summary().tables[1])\n",
    "print(results.summary())"
   ]
  },
  {
   "cell_type": "code",
   "execution_count": null,
   "metadata": {
    "colab": {
     "base_uri": "https://localhost:8080/"
    },
    "id": "MDjSlxuY5-9j",
    "outputId": "907a9362-20ba-4786-9d04-c7c658029223"
   },
   "outputs": [
    {
     "name": "stdout",
     "output_type": "stream",
     "text": [
      "                                 Statespace Model Results                                 \n",
      "==========================================================================================\n",
      "Dep. Variable:                         case_count   No. Observations:                  168\n",
      "Model:             SARIMAX(1, 0, 1)x(0, 1, 1, 12)   Log Likelihood                -669.838\n",
      "Date:                            Mon, 21 Feb 2022   AIC                           1351.676\n",
      "Time:                                    14:35:13   BIC                           1369.411\n",
      "Sample:                                01-31-2006   HQIC                          1358.883\n",
      "                                     - 12-31-2019                                         \n",
      "Covariance Type:                              opg                                         \n",
      "=====================================================================================\n",
      "                        coef    std err          z      P>|z|      [0.025      0.975]\n",
      "-------------------------------------------------------------------------------------\n",
      "const             -4.306e-05   1.44e+05     -3e-10      1.000   -2.81e+05    2.81e+05\n",
      "temp_mean_celsius     3.4939      1.843      1.896      0.058      -0.118       7.106\n",
      "ar.L1                 0.5891      0.117      5.018      0.000       0.359       0.819\n",
      "ma.L1                 0.1159      0.147      0.788      0.431      -0.172       0.404\n",
      "ma.S.L12             -0.5389      0.052    -10.335      0.000      -0.641      -0.437\n",
      "sigma2              725.7630     44.865     16.177      0.000     637.829     813.697\n",
      "===================================================================================\n",
      "Ljung-Box (Q):                       68.81   Jarque-Bera (JB):               235.79\n",
      "Prob(Q):                              0.00   Prob(JB):                         0.00\n",
      "Heteroskedasticity (H):               2.07   Skew:                             0.76\n",
      "Prob(H) (two-sided):                  0.01   Kurtosis:                         9.13\n",
      "===================================================================================\n",
      "\n",
      "Warnings:\n",
      "[1] Covariance matrix calculated using the outer product of gradients (complex-step).\n"
     ]
    }
   ],
   "source": [
    "#All Cases Model #4\n",
    "mod = sm.tsa.statespace.SARIMAX(endog, exog=exog2,\n",
    "                                order=(1,0,1),\n",
    "                                seasonal_order=(0,1,1,12),\n",
    "                                enforce_stationarity=False,\n",
    "                                enforce_invertibility=False)\n",
    "results = mod.fit()\n",
    "#print(results.summary().tables[1])\n",
    "print(results.summary())"
   ]
  },
  {
   "cell_type": "code",
   "execution_count": null,
   "metadata": {
    "colab": {
     "base_uri": "https://localhost:8080/"
    },
    "id": "MgwxIARr7vHD",
    "outputId": "e6d35f84-7081-4e96-85b8-451c13799f1d"
   },
   "outputs": [
    {
     "name": "stdout",
     "output_type": "stream",
     "text": [
      "The Mean Squared Error is 955.93\n",
      "The Root Mean Squared Error is 30.92\n"
     ]
    }
   ],
   "source": [
    "pred = results.get_prediction(start=pd.to_datetime('2018-01-31'), dynamic=False)\n",
    "y_forecasted = pred.predicted_mean\n",
    "y_truth = endog['2018-01-31':]\n",
    "mse = ((y_forecasted - y_truth) ** 2).mean()\n",
    "print('The Mean Squared Error is {}'.format(round(mse, 2)))\n",
    "print('The Root Mean Squared Error is {}'.format(round(np.sqrt(mse), 2)))"
   ]
  },
  {
   "cell_type": "code",
   "execution_count": null,
   "metadata": {
    "id": "lYgNOHyN7uzB"
   },
   "outputs": [],
   "source": []
  },
  {
   "cell_type": "code",
   "execution_count": null,
   "metadata": {
    "colab": {
     "base_uri": "https://localhost:8080/"
    },
    "id": "yu8eODVj3_Xz",
    "outputId": "fe8893e9-5787-489e-eeea-27aefa89b6f1"
   },
   "outputs": [
    {
     "name": "stdout",
     "output_type": "stream",
     "text": [
      "ARIMA(0, 0, 0)x(0, 0, 0, 12)12 - AIC:1369.123249266188\n",
      "ARIMA(0, 0, 0)x(0, 0, 1, 12)12 - AIC:1184.2531860327003\n",
      "ARIMA(0, 0, 0)x(0, 1, 0, 12)12 - AIC:1198.550501235195\n",
      "ARIMA(0, 0, 0)x(0, 1, 1, 12)12 - AIC:1077.7829396225632\n",
      "ARIMA(0, 0, 0)x(1, 0, 0, 12)12 - AIC:1159.8794587681882\n",
      "ARIMA(0, 0, 0)x(1, 0, 1, 12)12 - AIC:1145.4518326760701\n",
      "ARIMA(0, 0, 0)x(1, 1, 0, 12)12 - AIC:1084.302808171796\n",
      "ARIMA(0, 0, 0)x(1, 1, 1, 12)12 - AIC:1068.3669750483327\n",
      "ARIMA(0, 0, 1)x(0, 0, 0, 12)12 - AIC:1331.0193581167246\n",
      "ARIMA(0, 0, 1)x(0, 0, 1, 12)12 - AIC:1164.0762463639735\n",
      "ARIMA(0, 0, 1)x(0, 1, 0, 12)12 - AIC:1182.2135089041144\n",
      "ARIMA(0, 0, 1)x(0, 1, 1, 12)12 - AIC:1070.9830748263312\n",
      "ARIMA(0, 0, 1)x(1, 0, 0, 12)12 - AIC:1158.0578191729246\n",
      "ARIMA(0, 0, 1)x(1, 0, 1, 12)12 - AIC:1130.1086789846986\n",
      "ARIMA(0, 0, 1)x(1, 1, 0, 12)12 - AIC:1084.248437998754\n",
      "ARIMA(0, 0, 1)x(1, 1, 1, 12)12 - AIC:1054.531505626467\n",
      "ARIMA(0, 1, 0)x(0, 0, 0, 12)12 - AIC:1391.5602953048942\n",
      "ARIMA(0, 1, 0)x(0, 0, 1, 12)12 - AIC:1219.525519046786\n",
      "ARIMA(0, 1, 0)x(0, 1, 0, 12)12 - AIC:1272.8876287587043\n",
      "ARIMA(0, 1, 0)x(0, 1, 1, 12)12 - AIC:1138.4086294000338\n",
      "ARIMA(0, 1, 0)x(1, 0, 0, 12)12 - AIC:1221.4234523295372\n",
      "ARIMA(0, 1, 0)x(1, 0, 1, 12)12 - AIC:1209.8619427193373\n",
      "ARIMA(0, 1, 0)x(1, 1, 0, 12)12 - AIC:1150.2636539635423\n",
      "ARIMA(0, 1, 0)x(1, 1, 1, 12)12 - AIC:1117.8527062286519\n",
      "ARIMA(0, 1, 1)x(0, 0, 0, 12)12 - AIC:1370.4633274137616\n",
      "ARIMA(0, 1, 1)x(0, 0, 1, 12)12 - AIC:1176.1229917332093\n",
      "ARIMA(0, 1, 1)x(0, 1, 0, 12)12 - AIC:1181.3274596241054\n",
      "ARIMA(0, 1, 1)x(0, 1, 1, 12)12 - AIC:1069.5950757861388\n",
      "ARIMA(0, 1, 1)x(1, 0, 0, 12)12 - AIC:1156.8791988448834\n",
      "ARIMA(0, 1, 1)x(1, 0, 1, 12)12 - AIC:1129.861488160484\n",
      "ARIMA(0, 1, 1)x(1, 1, 0, 12)12 - AIC:1083.9055163671014\n",
      "ARIMA(0, 1, 1)x(1, 1, 1, 12)12 - AIC:1056.9145229092749\n",
      "ARIMA(1, 0, 0)x(0, 0, 0, 12)12 - AIC:1337.6775500674696\n",
      "ARIMA(1, 0, 0)x(0, 0, 1, 12)12 - AIC:1169.7113456746804\n",
      "ARIMA(1, 0, 0)x(0, 1, 0, 12)12 - AIC:1197.7369487627261\n",
      "ARIMA(1, 0, 0)x(0, 1, 1, 12)12 - AIC:1077.1443707816775\n",
      "ARIMA(1, 0, 0)x(1, 0, 0, 12)12 - AIC:1144.0588232385694\n",
      "ARIMA(1, 0, 0)x(1, 0, 1, 12)12 - AIC:1144.837783515319\n",
      "ARIMA(1, 0, 0)x(1, 1, 0, 12)12 - AIC:1077.239391400748\n",
      "ARIMA(1, 0, 0)x(1, 1, 1, 12)12 - AIC:1063.1798297894418\n",
      "ARIMA(1, 0, 1)x(0, 0, 0, 12)12 - AIC:1332.9948985491637\n",
      "ARIMA(1, 0, 1)x(0, 0, 1, 12)12 - AIC:1164.789913291707\n",
      "ARIMA(1, 0, 1)x(0, 1, 0, 12)12 - AIC:1184.0359057669425\n",
      "ARIMA(1, 0, 1)x(0, 1, 1, 12)12 - AIC:1071.8790242888738\n",
      "ARIMA(1, 0, 1)x(1, 0, 0, 12)12 - AIC:1145.4693103852514\n",
      "ARIMA(1, 0, 1)x(1, 0, 1, 12)12 - AIC:1132.1081971238114\n",
      "ARIMA(1, 0, 1)x(1, 1, 0, 12)12 - AIC:1078.6740380006459\n",
      "ARIMA(1, 0, 1)x(1, 1, 1, 12)12 - AIC:1055.2786800986828\n",
      "ARIMA(1, 1, 0)x(0, 0, 0, 12)12 - AIC:1390.6809225569436\n",
      "ARIMA(1, 1, 0)x(0, 0, 1, 12)12 - AIC:1209.9860650945725\n",
      "ARIMA(1, 1, 0)x(0, 1, 0, 12)12 - AIC:1242.3873655805455\n",
      "ARIMA(1, 1, 0)x(0, 1, 1, 12)12 - AIC:1110.758044296721\n",
      "ARIMA(1, 1, 0)x(1, 0, 0, 12)12 - AIC:1187.5628457489306\n",
      "ARIMA(1, 1, 0)x(1, 0, 1, 12)12 - AIC:1189.1385425226108\n",
      "ARIMA(1, 1, 0)x(1, 1, 0, 12)12 - AIC:1111.4208205549112\n",
      "ARIMA(1, 1, 0)x(1, 1, 1, 12)12 - AIC:1096.686966488344\n",
      "ARIMA(1, 1, 1)x(0, 0, 0, 12)12 - AIC:1336.8399344638394\n",
      "ARIMA(1, 1, 1)x(0, 0, 1, 12)12 - AIC:1162.3140038462266\n",
      "ARIMA(1, 1, 1)x(0, 1, 0, 12)12 - AIC:1181.371361626422\n",
      "ARIMA(1, 1, 1)x(0, 1, 1, 12)12 - AIC:1069.6742184082375\n",
      "ARIMA(1, 1, 1)x(1, 0, 0, 12)12 - AIC:1142.5105297931664\n",
      "ARIMA(1, 1, 1)x(1, 0, 1, 12)12 - AIC:1130.0608281172852\n",
      "ARIMA(1, 1, 1)x(1, 1, 0, 12)12 - AIC:1076.6328260425848\n",
      "ARIMA(1, 1, 1)x(1, 1, 1, 12)12 - AIC:1055.1922841481269\n"
     ]
    }
   ],
   "source": [
    "#Determining Model Parameters -- endog: cases per capita, exog: mean temp\n",
    "for param in pdq:\n",
    "    for param_seasonal in seasonal_pdq:\n",
    "        try:\n",
    "            mod = sm.tsa.statespace.SARIMAX(endog2,exog=exog2, order=param,seasonal_order=param_seasonal,enforce_stationarity=False,enforce_invertibility=False)\n",
    "            results = mod.fit()\n",
    "            print('ARIMA{}x{}12 - AIC:{}'.format(param,param_seasonal,results.aic))\n",
    "        except: \n",
    "            continue"
   ]
  },
  {
   "cell_type": "code",
   "execution_count": null,
   "metadata": {
    "colab": {
     "base_uri": "https://localhost:8080/"
    },
    "id": "TQuOwZpw9jLt",
    "outputId": "ef2634a0-e826-40b9-b66d-6ede5b3bc7b3"
   },
   "outputs": [
    {
     "name": "stdout",
     "output_type": "stream",
     "text": [
      "                                 Statespace Model Results                                 \n",
      "==========================================================================================\n",
      "Dep. Variable:                     cases_per_100k   No. Observations:                  168\n",
      "Model:             SARIMAX(0, 0, 1)x(1, 1, 1, 12)   Log Likelihood                -521.266\n",
      "Date:                            Mon, 21 Feb 2022   AIC                           1054.532\n",
      "Time:                                    14:35:39   BIC                           1072.266\n",
      "Sample:                                01-31-2006   HQIC                          1061.738\n",
      "                                     - 12-31-2019                                         \n",
      "Covariance Type:                              opg                                         \n",
      "=====================================================================================\n",
      "                        coef    std err          z      P>|z|      [0.025      0.975]\n",
      "-------------------------------------------------------------------------------------\n",
      "const              6.841e-05   1.61e+04   4.25e-09      1.000   -3.15e+04    3.15e+04\n",
      "temp_mean_celsius     1.5221      1.118      1.362      0.173      -0.668       3.712\n",
      "ma.L1                 0.1927      0.092      2.085      0.037       0.012       0.374\n",
      "ar.S.L12              0.3076      0.060      5.141      0.000       0.190       0.425\n",
      "ma.S.L12             -1.0000    348.104     -0.003      0.998    -683.272     681.272\n",
      "sigma2               72.8491   2.54e+04      0.003      0.998   -4.96e+04    4.98e+04\n",
      "===================================================================================\n",
      "Ljung-Box (Q):                       48.37   Jarque-Bera (JB):              3297.96\n",
      "Prob(Q):                              0.17   Prob(JB):                         0.00\n",
      "Heteroskedasticity (H):               2.48   Skew:                             3.58\n",
      "Prob(H) (two-sided):                  0.00   Kurtosis:                        25.50\n",
      "===================================================================================\n",
      "\n",
      "Warnings:\n",
      "[1] Covariance matrix calculated using the outer product of gradients (complex-step).\n"
     ]
    }
   ],
   "source": [
    "#Cases per Capita Model #1\n",
    "mod = sm.tsa.statespace.SARIMAX(endog2, exog=exog2,\n",
    "                                order=(0,0,1),\n",
    "                                seasonal_order=(1,1,1,12),\n",
    "                                enforce_stationarity=False,\n",
    "                                enforce_invertibility=False)\n",
    "results = mod.fit()\n",
    "#print(results.summary().tables[1])\n",
    "print(results.summary())"
   ]
  },
  {
   "cell_type": "code",
   "execution_count": null,
   "metadata": {
    "colab": {
     "base_uri": "https://localhost:8080/"
    },
    "id": "NkVG4lnfKAYf",
    "outputId": "d6811306-e11d-45a4-b603-8c8496ee8328"
   },
   "outputs": [
    {
     "name": "stdout",
     "output_type": "stream",
     "text": [
      "                                 Statespace Model Results                                 \n",
      "==========================================================================================\n",
      "Dep. Variable:                     cases_per_100k   No. Observations:                  168\n",
      "Model:             SARIMAX(1, 1, 1)x(1, 1, 1, 12)   Log Likelihood                -520.596\n",
      "Date:                            Mon, 21 Feb 2022   AIC                           1055.192\n",
      "Time:                                    14:35:41   BIC                           1075.834\n",
      "Sample:                                01-31-2006   HQIC                          1063.580\n",
      "                                     - 12-31-2019                                         \n",
      "Covariance Type:                              opg                                         \n",
      "=====================================================================================\n",
      "                        coef    std err          z      P>|z|      [0.025      0.975]\n",
      "-------------------------------------------------------------------------------------\n",
      "const             -3.367e-05    4.8e+04  -7.01e-10      1.000   -9.42e+04    9.42e+04\n",
      "temp_mean_celsius     1.3419      1.008      1.332      0.183      -0.633       3.317\n",
      "ar.L1                 0.1885      0.116      1.621      0.105      -0.039       0.416\n",
      "ma.L1                -0.9506      0.098     -9.736      0.000      -1.142      -0.759\n",
      "ar.S.L12              0.2973      0.065      4.550      0.000       0.169       0.425\n",
      "ma.S.L12             -1.0000    462.576     -0.002      0.998    -907.632     905.632\n",
      "sigma2               74.2802   3.44e+04      0.002      0.998   -6.73e+04    6.74e+04\n",
      "===================================================================================\n",
      "Ljung-Box (Q):                       49.03   Jarque-Bera (JB):              2944.05\n",
      "Prob(Q):                              0.15   Prob(JB):                         0.00\n",
      "Heteroskedasticity (H):               2.76   Skew:                             3.47\n",
      "Prob(H) (two-sided):                  0.00   Kurtosis:                        24.28\n",
      "===================================================================================\n",
      "\n",
      "Warnings:\n",
      "[1] Covariance matrix calculated using the outer product of gradients (complex-step).\n"
     ]
    }
   ],
   "source": [
    "#Cases per Capita Model #2\n",
    "mod = sm.tsa.statespace.SARIMAX(endog2, exog=exog2,\n",
    "                                order=(1,1,1),\n",
    "                                seasonal_order=(1,1,1,12),\n",
    "                                enforce_stationarity=False,\n",
    "                                enforce_invertibility=False)\n",
    "results = mod.fit()\n",
    "#print(results.summary().tables[1])\n",
    "print(results.summary())"
   ]
  },
  {
   "cell_type": "code",
   "execution_count": null,
   "metadata": {
    "colab": {
     "base_uri": "https://localhost:8080/"
    },
    "id": "zBmpWDKd-Gr3",
    "outputId": "b14d2382-c198-473d-d1a1-fcad184daf57"
   },
   "outputs": [
    {
     "name": "stdout",
     "output_type": "stream",
     "text": [
      "                                 Statespace Model Results                                 \n",
      "==========================================================================================\n",
      "Dep. Variable:                     cases_per_100k   No. Observations:                  168\n",
      "Model:             SARIMAX(1, 0, 1)x(1, 1, 1, 12)   Log Likelihood                -520.639\n",
      "Date:                            Mon, 21 Feb 2022   AIC                           1055.279\n",
      "Time:                                    14:35:42   BIC                           1075.969\n",
      "Sample:                                01-31-2006   HQIC                          1063.687\n",
      "                                     - 12-31-2019                                         \n",
      "Covariance Type:                              opg                                         \n",
      "=====================================================================================\n",
      "                        coef    std err          z      P>|z|      [0.025      0.975]\n",
      "-------------------------------------------------------------------------------------\n",
      "const              7.611e-05   1.44e+04    5.3e-09      1.000   -2.82e+04    2.82e+04\n",
      "temp_mean_celsius     1.5871      1.156      1.373      0.170      -0.679       3.853\n",
      "ar.L1                 0.3797      1.102      0.344      0.730      -1.780       2.540\n",
      "ma.L1                -0.1618      1.096     -0.148      0.883      -2.309       1.985\n",
      "ar.S.L12              0.2964      0.059      4.982      0.000       0.180       0.413\n",
      "ma.S.L12             -1.0000    800.260     -0.001      0.999   -1569.482    1567.482\n",
      "sigma2               72.2107   5.78e+04      0.001      0.999   -1.13e+05    1.13e+05\n",
      "===================================================================================\n",
      "Ljung-Box (Q):                       46.39   Jarque-Bera (JB):              3548.05\n",
      "Prob(Q):                              0.23   Prob(JB):                         0.00\n",
      "Heteroskedasticity (H):               2.39   Skew:                             3.70\n",
      "Prob(H) (two-sided):                  0.00   Kurtosis:                        26.34\n",
      "===================================================================================\n",
      "\n",
      "Warnings:\n",
      "[1] Covariance matrix calculated using the outer product of gradients (complex-step).\n"
     ]
    }
   ],
   "source": [
    "#Cases per Capita Model #3\n",
    "mod = sm.tsa.statespace.SARIMAX(endog2, exog=exog2,\n",
    "                                order=(1,0,1),\n",
    "                                seasonal_order=(1,1,1,12),\n",
    "                                enforce_stationarity=False,\n",
    "                                enforce_invertibility=False)\n",
    "results = mod.fit()\n",
    "#print(results.summary().tables[1])\n",
    "print(results.summary())"
   ]
  },
  {
   "cell_type": "code",
   "execution_count": null,
   "metadata": {
    "colab": {
     "base_uri": "https://localhost:8080/"
    },
    "id": "XxDcTCzo4g3Q",
    "outputId": "1f4d13bb-91e3-417f-ad61-857d7f63cedb"
   },
   "outputs": [
    {
     "name": "stdout",
     "output_type": "stream",
     "text": [
      "                                 Statespace Model Results                                 \n",
      "==========================================================================================\n",
      "Dep. Variable:                     cases_per_100k   No. Observations:                  168\n",
      "Model:             SARIMAX(0, 1, 1)x(1, 1, 1, 12)   Log Likelihood                -522.457\n",
      "Date:                            Mon, 21 Feb 2022   AIC                           1056.915\n",
      "Time:                                    14:35:43   BIC                           1074.607\n",
      "Sample:                                01-31-2006   HQIC                          1064.104\n",
      "                                     - 12-31-2019                                         \n",
      "Covariance Type:                              opg                                         \n",
      "=====================================================================================\n",
      "                        coef    std err          z      P>|z|      [0.025      0.975]\n",
      "-------------------------------------------------------------------------------------\n",
      "const             -4.056e-05   5.55e+04   -7.3e-10      1.000   -1.09e+05    1.09e+05\n",
      "temp_mean_celsius     0.9004      0.928      0.970      0.332      -0.919       2.720\n",
      "ma.L1                -0.9263      0.063    -14.609      0.000      -1.051      -0.802\n",
      "ar.S.L12              0.3348      0.064      5.207      0.000       0.209       0.461\n",
      "ma.S.L12             -1.0002     63.865     -0.016      0.988    -126.174     124.174\n",
      "sigma2               76.4844   4887.921      0.016      0.988   -9503.664    9656.633\n",
      "===================================================================================\n",
      "Ljung-Box (Q):                       53.77   Jarque-Bera (JB):              2403.15\n",
      "Prob(Q):                              0.07   Prob(JB):                         0.00\n",
      "Heteroskedasticity (H):               2.89   Skew:                             3.16\n",
      "Prob(H) (two-sided):                  0.00   Kurtosis:                        22.21\n",
      "===================================================================================\n",
      "\n",
      "Warnings:\n",
      "[1] Covariance matrix calculated using the outer product of gradients (complex-step).\n"
     ]
    }
   ],
   "source": [
    "#Cases per Capita Model #4\n",
    "mod = sm.tsa.statespace.SARIMAX(endog2, exog=exog2,\n",
    "                                order=(0,1,1),\n",
    "                                seasonal_order=(1,1,1,12),\n",
    "                                enforce_stationarity=False,\n",
    "                                enforce_invertibility=False)\n",
    "results = mod.fit()\n",
    "#print(results.summary().tables[1])\n",
    "print(results.summary())"
   ]
  },
  {
   "cell_type": "code",
   "execution_count": null,
   "metadata": {
    "colab": {
     "base_uri": "https://localhost:8080/"
    },
    "id": "SYTGt3uMCaqU",
    "outputId": "683bc486-f753-41f4-b1dd-aba2559e87f2"
   },
   "outputs": [
    {
     "name": "stdout",
     "output_type": "stream",
     "text": [
      "                                 Statespace Model Results                                 \n",
      "==========================================================================================\n",
      "Dep. Variable:                     cases_per_100k   No. Observations:                  168\n",
      "Model:             SARIMAX(0, 0, 1)x(0, 1, 1, 12)   Log Likelihood                -530.492\n",
      "Date:                            Mon, 21 Feb 2022   AIC                           1070.983\n",
      "Time:                                    14:35:43   BIC                           1085.762\n",
      "Sample:                                01-31-2006   HQIC                          1076.989\n",
      "                                     - 12-31-2019                                         \n",
      "Covariance Type:                              opg                                         \n",
      "=====================================================================================\n",
      "                        coef    std err          z      P>|z|      [0.025      0.975]\n",
      "-------------------------------------------------------------------------------------\n",
      "const             -2.155e-07   1.75e-06     -0.123      0.902   -3.65e-06    3.22e-06\n",
      "temp_mean_celsius     1.4686      0.679      2.163      0.031       0.138       2.799\n",
      "ma.L1                 0.1263      0.058      2.165      0.030       0.012       0.241\n",
      "ma.S.L12             -0.0670      0.030     -2.197      0.028      -0.127      -0.007\n",
      "sigma2              102.9061      5.635     18.260      0.000      91.861     113.951\n",
      "===================================================================================\n",
      "Ljung-Box (Q):                       42.89   Jarque-Bera (JB):              1462.22\n",
      "Prob(Q):                              0.35   Prob(JB):                         0.00\n",
      "Heteroskedasticity (H):               2.88   Skew:                            -0.85\n",
      "Prob(H) (two-sided):                  0.00   Kurtosis:                        18.63\n",
      "===================================================================================\n",
      "\n",
      "Warnings:\n",
      "[1] Covariance matrix calculated using the outer product of gradients (complex-step).\n",
      "[2] Covariance matrix is singular or near-singular, with condition number 1.81e+22. Standard errors may be unstable.\n"
     ]
    }
   ],
   "source": [
    "#Cases per Capita Model #5\n",
    "mod = sm.tsa.statespace.SARIMAX(endog2, exog=exog2,\n",
    "                                order=(0,0,1),\n",
    "                                seasonal_order=(0,1,1,12),\n",
    "                                enforce_stationarity=False,\n",
    "                                enforce_invertibility=False)\n",
    "results = mod.fit()\n",
    "#print(results.summary().tables[1])\n",
    "print(results.summary())"
   ]
  },
  {
   "cell_type": "code",
   "execution_count": null,
   "metadata": {
    "colab": {
     "base_uri": "https://localhost:8080/"
    },
    "id": "qZApDHniDULV",
    "outputId": "14a4d77f-e81a-4e5f-ae34-d59dfa682957"
   },
   "outputs": [
    {
     "name": "stdout",
     "output_type": "stream",
     "text": [
      "                            Statespace Model Results                            \n",
      "================================================================================\n",
      "Dep. Variable:           cases_per_100k   No. Observations:                  180\n",
      "Model:             SARIMAX(0, 1, 1, 12)   Log Likelihood                -574.095\n",
      "Date:                  Mon, 21 Feb 2022   AIC                           1156.189\n",
      "Time:                          15:01:20   BIC                           1168.363\n",
      "Sample:                      01-31-2006   HQIC                          1161.134\n",
      "                           - 12-31-2020                                         \n",
      "Covariance Type:                    opg                                         \n",
      "=====================================================================================\n",
      "                        coef    std err          z      P>|z|      [0.025      0.975]\n",
      "-------------------------------------------------------------------------------------\n",
      "const             -9.755e-10   2.01e-07     -0.005      0.996   -3.95e-07    3.93e-07\n",
      "temp_mean_celsius     1.0196      0.552      1.847      0.065      -0.062       2.102\n",
      "ma.S.L12             -0.0282      0.029     -0.970      0.332      -0.085       0.029\n",
      "sigma2               96.5232      4.465     21.617      0.000      87.772     105.275\n",
      "===================================================================================\n",
      "Ljung-Box (Q):                       40.69   Jarque-Bera (JB):              2231.60\n",
      "Prob(Q):                              0.44   Prob(JB):                         0.00\n",
      "Heteroskedasticity (H):               2.86   Skew:                            -1.08\n",
      "Prob(H) (two-sided):                  0.00   Kurtosis:                        21.46\n",
      "===================================================================================\n",
      "\n",
      "Warnings:\n",
      "[1] Covariance matrix calculated using the outer product of gradients (complex-step).\n",
      "[2] Covariance matrix is singular or near-singular, with condition number 2.1e+23. Standard errors may be unstable.\n"
     ]
    }
   ],
   "source": [
    "#Cases per Capita Model #6\n",
    "mod = sm.tsa.statespace.SARIMAX(endog2, exog=exog2,\n",
    "                                order=(0,0,0),\n",
    "                                seasonal_order=(0,1,1,12),\n",
    "                                enforce_stationarity=False,\n",
    "                                enforce_invertibility=False)\n",
    "results = mod.fit()\n",
    "#print(results.summary().tables[1])\n",
    "print(results.summary())"
   ]
  },
  {
   "cell_type": "code",
   "execution_count": null,
   "metadata": {
    "colab": {
     "base_uri": "https://localhost:8080/"
    },
    "id": "CbII3SFND7Ab",
    "outputId": "79906212-ef2a-4049-d42f-43476f10c643"
   },
   "outputs": [
    {
     "name": "stdout",
     "output_type": "stream",
     "text": [
      "                                 Statespace Model Results                                 \n",
      "==========================================================================================\n",
      "Dep. Variable:                     cases_per_100k   No. Observations:                  168\n",
      "Model:             SARIMAX(1, 1, 1)x(0, 1, 1, 12)   Log Likelihood                -528.837\n",
      "Date:                            Mon, 21 Feb 2022   AIC                           1069.674\n",
      "Time:                                    14:35:44   BIC                           1087.367\n",
      "Sample:                                01-31-2006   HQIC                          1076.864\n",
      "                                     - 12-31-2019                                         \n",
      "Covariance Type:                              opg                                         \n",
      "=====================================================================================\n",
      "                        coef    std err          z      P>|z|      [0.025      0.975]\n",
      "-------------------------------------------------------------------------------------\n",
      "const              5.151e-05   2.11e+04   2.45e-09      1.000   -4.13e+04    4.13e+04\n",
      "temp_mean_celsius     1.4921      0.764      1.953      0.051      -0.005       2.990\n",
      "ar.L1                 0.1430      0.071      2.003      0.045       0.003       0.283\n",
      "ma.L1                -0.9650      0.046    -20.842      0.000      -1.056      -0.874\n",
      "ma.S.L12             -0.0858      0.041     -2.102      0.036      -0.166      -0.006\n",
      "sigma2              105.4970      6.393     16.501      0.000      92.966     118.028\n",
      "===================================================================================\n",
      "Ljung-Box (Q):                       44.55   Jarque-Bera (JB):              1410.71\n",
      "Prob(Q):                              0.29   Prob(JB):                         0.00\n",
      "Heteroskedasticity (H):               2.95   Skew:                            -0.98\n",
      "Prob(H) (two-sided):                  0.00   Kurtosis:                        18.37\n",
      "===================================================================================\n",
      "\n",
      "Warnings:\n",
      "[1] Covariance matrix calculated using the outer product of gradients (complex-step).\n"
     ]
    }
   ],
   "source": [
    "#Cases per Capita Model #7\n",
    "mod = sm.tsa.statespace.SARIMAX(endog2, exog=exog2,\n",
    "                                order=(1,1,1),\n",
    "                                seasonal_order=(0,1,1,12),\n",
    "                                enforce_stationarity=False,\n",
    "                                enforce_invertibility=False)\n",
    "results = mod.fit()\n",
    "#print(results.summary().tables[1])\n",
    "print(results.summary())"
   ]
  },
  {
   "cell_type": "code",
   "execution_count": null,
   "metadata": {
    "colab": {
     "base_uri": "https://localhost:8080/"
    },
    "id": "DTkXQEC29VCR",
    "outputId": "3fb588cc-fd99-49af-b502-6becbacb6c55"
   },
   "outputs": [
    {
     "name": "stdout",
     "output_type": "stream",
     "text": [
      "The Mean Squared Error is 16.08\n",
      "The Root Mean Squared Error is 4.01\n"
     ]
    }
   ],
   "source": [
    "pred = results.get_prediction(start=pd.to_datetime('2018-01-31'), dynamic=False)\n",
    "y_forecasted = pred.predicted_mean\n",
    "y_truth = endog2['2018-01-31':]\n",
    "mse = ((y_forecasted - y_truth) ** 2).mean()\n",
    "print('The Mean Squared Error is {}'.format(round(mse, 2)))\n",
    "print('The Root Mean Squared Error is {}'.format(round(np.sqrt(mse), 2)))"
   ]
  },
  {
   "cell_type": "code",
   "execution_count": null,
   "metadata": {
    "id": "uppe2yo9appK"
   },
   "outputs": [],
   "source": [
    "endog_top20 = df_top20.loc[:'2019', 'case_count']\n",
    "endog2_top20 = df_top20.loc[:'2019', 'cases_per_100k']\n",
    "exog_top20 = sm.add_constant(df_top20.loc[:'2019', ('precip_mm','temp_mean_celsius')])\n",
    "exog2_top20 = sm.add_constant(df_top20.loc[:'2019', (\"temp_mean_celsius\")])\n",
    "nobs_top20 = endog_top20.shape[0]"
   ]
  },
  {
   "cell_type": "code",
   "execution_count": null,
   "metadata": {
    "colab": {
     "base_uri": "https://localhost:8080/"
    },
    "id": "fIlRlnVRneXR",
    "outputId": "924c2de5-1377-481b-ad81-bc5b866bdfd0"
   },
   "outputs": [
    {
     "name": "stdout",
     "output_type": "stream",
     "text": [
      "ARIMA(0, 0, 0)x(0, 0, 0, 12)12 - AIC:1751.0460250830029\n",
      "ARIMA(0, 0, 0)x(0, 0, 1, 12)12 - AIC:1589.1027965887517\n",
      "ARIMA(0, 0, 0)x(0, 1, 0, 12)12 - AIC:1552.9649571603366\n",
      "ARIMA(0, 0, 0)x(0, 1, 1, 12)12 - AIC:1420.5103937279828\n",
      "ARIMA(0, 0, 0)x(1, 0, 0, 12)12 - AIC:1553.59732016417\n",
      "ARIMA(0, 0, 0)x(1, 0, 1, 12)12 - AIC:1532.5546021261189\n",
      "ARIMA(0, 0, 0)x(1, 1, 0, 12)12 - AIC:1432.3636782557262\n",
      "ARIMA(0, 0, 0)x(1, 1, 1, 12)12 - AIC:1422.785797359136\n",
      "ARIMA(0, 0, 1)x(0, 0, 0, 12)12 - AIC:1666.9727411263952\n",
      "ARIMA(0, 0, 1)x(0, 0, 1, 12)12 - AIC:1513.8134631720632\n",
      "ARIMA(0, 0, 1)x(0, 1, 0, 12)12 - AIC:1490.6944555058703\n",
      "ARIMA(0, 0, 1)x(0, 1, 1, 12)12 - AIC:1356.596529146254\n",
      "ARIMA(0, 0, 1)x(1, 0, 0, 12)12 - AIC:1498.9246815944316\n",
      "ARIMA(0, 0, 1)x(1, 0, 1, 12)12 - AIC:1465.6772448162874\n",
      "ARIMA(0, 0, 1)x(1, 1, 0, 12)12 - AIC:1377.679301672003\n",
      "ARIMA(0, 0, 1)x(1, 1, 1, 12)12 - AIC:1355.451000153896\n",
      "ARIMA(0, 1, 0)x(0, 0, 0, 12)12 - AIC:1678.350939876042\n",
      "ARIMA(0, 1, 0)x(0, 0, 1, 12)12 - AIC:1521.221175897278\n",
      "ARIMA(0, 1, 0)x(0, 1, 0, 12)12 - AIC:1515.3250612854408\n",
      "ARIMA(0, 1, 0)x(0, 1, 1, 12)12 - AIC:1360.4269280177996\n",
      "ARIMA(0, 1, 0)x(1, 0, 0, 12)12 - AIC:1500.0503265919624\n",
      "ARIMA(0, 1, 0)x(1, 0, 1, 12)12 - AIC:1470.4355034460377\n",
      "ARIMA(0, 1, 0)x(1, 1, 0, 12)12 - AIC:1372.1289623374\n",
      "ARIMA(0, 1, 0)x(1, 1, 1, 12)12 - AIC:1361.1659384331265\n",
      "ARIMA(0, 1, 1)x(0, 0, 0, 12)12 - AIC:1661.7218070863687\n",
      "ARIMA(0, 1, 1)x(0, 0, 1, 12)12 - AIC:1514.2870046922692\n",
      "ARIMA(0, 1, 1)x(0, 1, 0, 12)12 - AIC:1495.1858417092612\n",
      "ARIMA(0, 1, 1)x(0, 1, 1, 12)12 - AIC:1352.302241046595\n",
      "ARIMA(0, 1, 1)x(1, 0, 0, 12)12 - AIC:1499.6921111592615\n",
      "ARIMA(0, 1, 1)x(1, 0, 1, 12)12 - AIC:1455.1682245811162\n",
      "ARIMA(0, 1, 1)x(1, 1, 0, 12)12 - AIC:1373.0981066428162\n",
      "ARIMA(0, 1, 1)x(1, 1, 1, 12)12 - AIC:1349.6586920935752\n",
      "ARIMA(1, 0, 0)x(0, 0, 0, 12)12 - AIC:1649.6077356178846\n",
      "ARIMA(1, 0, 0)x(0, 0, 1, 12)12 - AIC:1503.6872450587666\n",
      "ARIMA(1, 0, 0)x(0, 1, 0, 12)12 - AIC:1491.926989933581\n",
      "ARIMA(1, 0, 0)x(0, 1, 1, 12)12 - AIC:1346.4223723386035\n",
      "ARIMA(1, 0, 0)x(1, 0, 0, 12)12 - AIC:1469.4116448257864\n",
      "ARIMA(1, 0, 0)x(1, 0, 1, 12)12 - AIC:1456.8285847651332\n",
      "ARIMA(1, 0, 0)x(1, 1, 0, 12)12 - AIC:1346.3429731318406\n",
      "ARIMA(1, 0, 0)x(1, 1, 1, 12)12 - AIC:1348.0912504144787\n",
      "ARIMA(1, 0, 1)x(0, 0, 0, 12)12 - AIC:1641.6712128258055\n",
      "ARIMA(1, 0, 1)x(0, 0, 1, 12)12 - AIC:1491.9325374206278\n",
      "ARIMA(1, 0, 1)x(0, 1, 0, 12)12 - AIC:1478.0755443550913\n",
      "ARIMA(1, 0, 1)x(0, 1, 1, 12)12 - AIC:1338.7941051734847\n",
      "ARIMA(1, 0, 1)x(1, 0, 0, 12)12 - AIC:1470.247004112712\n",
      "ARIMA(1, 0, 1)x(1, 0, 1, 12)12 - AIC:1445.7415404924088\n",
      "ARIMA(1, 0, 1)x(1, 1, 0, 12)12 - AIC:1347.2405439170611\n",
      "ARIMA(1, 0, 1)x(1, 1, 1, 12)12 - AIC:1336.6756262919098\n",
      "ARIMA(1, 1, 0)x(0, 0, 0, 12)12 - AIC:1678.5441776922082\n",
      "ARIMA(1, 1, 0)x(0, 0, 1, 12)12 - AIC:1523.1737156303743\n",
      "ARIMA(1, 1, 0)x(0, 1, 0, 12)12 - AIC:1511.750296599766\n",
      "ARIMA(1, 1, 0)x(0, 1, 1, 12)12 - AIC:1361.302885235535\n",
      "ARIMA(1, 1, 0)x(1, 0, 0, 12)12 - AIC:1485.974924970942\n",
      "ARIMA(1, 1, 0)x(1, 0, 1, 12)12 - AIC:1470.338118710959\n",
      "ARIMA(1, 1, 0)x(1, 1, 0, 12)12 - AIC:1360.5506709746332\n",
      "ARIMA(1, 1, 0)x(1, 1, 1, 12)12 - AIC:1362.300438174915\n",
      "ARIMA(1, 1, 1)x(0, 0, 0, 12)12 - AIC:1646.5933474992983\n",
      "ARIMA(1, 1, 1)x(0, 0, 1, 12)12 - AIC:1492.0300755407743\n",
      "ARIMA(1, 1, 1)x(0, 1, 0, 12)12 - AIC:1472.8713808158714\n",
      "ARIMA(1, 1, 1)x(0, 1, 1, 12)12 - AIC:1335.4433354440612\n",
      "ARIMA(1, 1, 1)x(1, 0, 0, 12)12 - AIC:1465.770966728258\n",
      "ARIMA(1, 1, 1)x(1, 0, 1, 12)12 - AIC:1440.5120133439027\n",
      "ARIMA(1, 1, 1)x(1, 1, 0, 12)12 - AIC:1342.5410258873046\n",
      "ARIMA(1, 1, 1)x(1, 1, 1, 12)12 - AIC:1332.2306240117837\n"
     ]
    }
   ],
   "source": [
    "for param in pdq:\n",
    "    for param_seasonal in seasonal_pdq:\n",
    "        try:\n",
    "            mod = sm.tsa.statespace.SARIMAX(endog_top20,exog=exog2_top20, order=param,seasonal_order=param_seasonal,enforce_stationarity=False,enforce_invertibility=False)\n",
    "            results = mod.fit()\n",
    "            print('ARIMA{}x{}12 - AIC:{}'.format(param,param_seasonal,results.aic))\n",
    "        except: \n",
    "            continue"
   ]
  },
  {
   "cell_type": "code",
   "execution_count": null,
   "metadata": {
    "colab": {
     "base_uri": "https://localhost:8080/"
    },
    "id": "SwjnIJjZnvF4",
    "outputId": "3643c8e3-00a3-4b67-a9e5-c0428694d57b"
   },
   "outputs": [
    {
     "name": "stdout",
     "output_type": "stream",
     "text": [
      "                                 Statespace Model Results                                 \n",
      "==========================================================================================\n",
      "Dep. Variable:                         case_count   No. Observations:                  168\n",
      "Model:             SARIMAX(1, 1, 1)x(0, 1, 1, 12)   Log Likelihood                -661.722\n",
      "Date:                            Mon, 21 Feb 2022   AIC                           1335.443\n",
      "Time:                                    14:36:08   BIC                           1353.136\n",
      "Sample:                                01-31-2006   HQIC                          1342.633\n",
      "                                     - 12-31-2019                                         \n",
      "Covariance Type:                              opg                                         \n",
      "=====================================================================================\n",
      "                        coef    std err          z      P>|z|      [0.025      0.975]\n",
      "-------------------------------------------------------------------------------------\n",
      "const                -0.0001   4.62e+04  -2.99e-09      1.000   -9.05e+04    9.05e+04\n",
      "temp_mean_celsius     2.3882      1.860      1.284      0.199      -1.257       6.034\n",
      "ar.L1                 0.6555      0.075      8.743      0.000       0.509       0.802\n",
      "ma.L1                -0.9793      0.059    -16.520      0.000      -1.095      -0.863\n",
      "ma.S.L12             -0.5309      0.062     -8.618      0.000      -0.652      -0.410\n",
      "sigma2              682.2535     44.114     15.466      0.000     595.792     768.715\n",
      "===================================================================================\n",
      "Ljung-Box (Q):                       69.87   Jarque-Bera (JB):               252.43\n",
      "Prob(Q):                              0.00   Prob(JB):                         0.00\n",
      "Heteroskedasticity (H):               2.23   Skew:                             0.77\n",
      "Prob(H) (two-sided):                  0.01   Kurtosis:                         9.37\n",
      "===================================================================================\n",
      "\n",
      "Warnings:\n",
      "[1] Covariance matrix calculated using the outer product of gradients (complex-step).\n"
     ]
    }
   ],
   "source": [
    "#Without precipitation -- Top 20 -- 1,1,1_1,1,1,12\n",
    "mod = sm.tsa.statespace.SARIMAX(endog_top20, exog=exog2_top20,\n",
    "                                order=(1,1,1),\n",
    "                                seasonal_order=(0,1,1,12),\n",
    "                                enforce_stationarity=False,\n",
    "                                enforce_invertibility=False)\n",
    "results = mod.fit()\n",
    "#print(results.summary().tables[1])\n",
    "print(results.summary())"
   ]
  },
  {
   "cell_type": "code",
   "execution_count": null,
   "metadata": {
    "colab": {
     "base_uri": "https://localhost:8080/"
    },
    "id": "a3HOxUrYoLkS",
    "outputId": "d4af61f8-8519-47f2-b4bb-e913515828ea"
   },
   "outputs": [
    {
     "name": "stdout",
     "output_type": "stream",
     "text": [
      "                                 Statespace Model Results                                 \n",
      "==========================================================================================\n",
      "Dep. Variable:                         case_count   No. Observations:                  168\n",
      "Model:             SARIMAX(1, 1, 1)x(0, 1, 1, 12)   Log Likelihood                -660.738\n",
      "Date:                            Mon, 21 Feb 2022   AIC                           1335.477\n",
      "Time:                                    14:36:10   BIC                           1356.118\n",
      "Sample:                                01-31-2006   HQIC                          1343.865\n",
      "                                     - 12-31-2019                                         \n",
      "Covariance Type:                              opg                                         \n",
      "=====================================================================================\n",
      "                        coef    std err          z      P>|z|      [0.025      0.975]\n",
      "-------------------------------------------------------------------------------------\n",
      "const                -0.0001   4.66e+04  -2.96e-09      1.000   -9.12e+04    9.12e+04\n",
      "precip_mm            -0.0211      0.022     -0.956      0.339      -0.064       0.022\n",
      "temp_mean_celsius     2.1577      1.788      1.207      0.228      -1.347       5.662\n",
      "ar.L1                 0.6618      0.079      8.373      0.000       0.507       0.817\n",
      "ma.L1                -0.9827      0.066    -14.782      0.000      -1.113      -0.852\n",
      "ma.S.L12             -0.5281      0.066     -7.986      0.000      -0.658      -0.399\n",
      "sigma2              671.9723     46.184     14.550      0.000     581.453     762.492\n",
      "===================================================================================\n",
      "Ljung-Box (Q):                       69.48   Jarque-Bera (JB):               237.15\n",
      "Prob(Q):                              0.00   Prob(JB):                         0.00\n",
      "Heteroskedasticity (H):               2.22   Skew:                             0.79\n",
      "Prob(H) (two-sided):                  0.01   Kurtosis:                         9.15\n",
      "===================================================================================\n",
      "\n",
      "Warnings:\n",
      "[1] Covariance matrix calculated using the outer product of gradients (complex-step).\n"
     ]
    }
   ],
   "source": [
    "#Without precipitation -- Top 20 -- 1,1,1_0,1,1,12\n",
    "mod = sm.tsa.statespace.SARIMAX(endog_top20, exog=exog_top20,\n",
    "                                order=(1,1,1),\n",
    "                                seasonal_order=(0,1,1,12),\n",
    "                                enforce_stationarity=False,\n",
    "                                enforce_invertibility=False)\n",
    "results = mod.fit()\n",
    "#print(results.summary().tables[1])\n",
    "print(results.summary())"
   ]
  },
  {
   "cell_type": "code",
   "execution_count": null,
   "metadata": {
    "colab": {
     "base_uri": "https://localhost:8080/",
     "height": 610
    },
    "id": "cGIcDmDsazdL",
    "outputId": "6b9b66a9-4461-4fc1-cd47-ae58cd5f9b35"
   },
   "outputs": [
    {
     "data": {
      "image/png": "[encoded data removed]",
      "text/plain": [
       "<Figure size 1440x640 with 4 Axes>"
      ]
     },
     "metadata": {},
     "output_type": "display_data"
    }
   ],
   "source": [
    "results.plot_diagnostics(figsize=(18, 8))\n",
    "plt.show()"
   ]
  },
  {
   "cell_type": "code",
   "execution_count": null,
   "metadata": {
    "colab": {
     "base_uri": "https://localhost:8080/",
     "height": 332
    },
    "id": "zhNTieDpfMNd",
    "outputId": "5adace7a-db94-42d7-de23-a6dc4661eaa3"
   },
   "outputs": [
    {
     "data": {
      "image/png": "[encoded data removed]",
      "text/plain": [
       "<Figure size 1120x320 with 1 Axes>"
      ]
     },
     "metadata": {},
     "output_type": "display_data"
    }
   ],
   "source": [
    "\n",
    "plt.rcParams.update({'figure.figsize':(9,7), 'figure.dpi':80})\n",
    "pred = results.get_prediction(start=pd.to_datetime('2018-01-31'), dynamic=False)\n",
    "pred_ci = pred.conf_int()\n",
    "ax = endog2['2015':].plot(label='observed')\n",
    "pred.predicted_mean.plot(ax=ax, label='One-step ahead Forecast', alpha=.7, figsize=(14, 4))\n",
    "ax.fill_between(pred_ci.index,\n",
    "                pred_ci.iloc[:, 0],\n",
    "                pred_ci.iloc[:, 1], color='k', alpha=.2)\n",
    "ax.set_xlabel('Date')\n",
    "ax.set_ylabel('Case Count')\n",
    "plt.legend()\n",
    "plt.show()"
   ]
  },
  {
   "cell_type": "code",
   "execution_count": null,
   "metadata": {
    "colab": {
     "base_uri": "https://localhost:8080/",
     "height": 332
    },
    "id": "47th9nWHKt8R",
    "outputId": "7884c7c3-ed12-4840-98b0-3314c464de7d"
   },
   "outputs": [
    {
     "data": {
      "image/png": "[encoded data removed]",
      "text/plain": [
       "<Figure size 1120x320 with 1 Axes>"
      ]
     },
     "metadata": {},
     "output_type": "display_data"
    }
   ],
   "source": [
    "pred = results.get_prediction(start=pd.to_datetime('2018-01-31'), dynamic=False)\n",
    "pred_ci = pred.conf_int()\n",
    "ax = endog2['2015':].plot(label='observed')\n",
    "pred.predicted_mean.plot(ax=ax, label='One-step ahead Forecast', alpha=.7, figsize=(14, 4))\n",
    "ax.fill_between(pred_ci.index,\n",
    "                pred_ci.iloc[:, 0],\n",
    "                pred_ci.iloc[:, 1], color='k', alpha=.2)\n",
    "ax.set_xlabel('Date')\n",
    "ax.set_ylabel('Case Count')\n",
    "plt.legend()\n",
    "plt.show()"
   ]
  },
  {
   "cell_type": "code",
   "execution_count": null,
   "metadata": {
    "colab": {
     "base_uri": "https://localhost:8080/"
    },
    "id": "UcK1bsqaft5f",
    "outputId": "f6c663cf-3536-41d9-d042-508da0d206db"
   },
   "outputs": [
    {
     "name": "stdout",
     "output_type": "stream",
     "text": [
      "The Mean Squared Error is 14.06\n",
      "The Root Mean Squared Error is 3.75\n"
     ]
    }
   ],
   "source": [
    "y_forecasted = pred.predicted_mean\n",
    "y_truth = endog2['2018-01-31':]\n",
    "mse = ((y_forecasted - y_truth) ** 2).mean()\n",
    "print('The Mean Squared Error is {}'.format(round(mse, 2)))\n",
    "print('The Root Mean Squared Error is {}'.format(round(np.sqrt(mse), 2)))"
   ]
  },
  {
   "cell_type": "code",
   "execution_count": null,
   "metadata": {
    "colab": {
     "base_uri": "https://localhost:8080/"
    },
    "id": "raAbd_DxK1oM",
    "outputId": "e3546580-4e20-4589-c2e8-a0fe7d70c20f"
   },
   "outputs": [
    {
     "name": "stdout",
     "output_type": "stream",
     "text": [
      "The Mean Squared Error is 20.69\n",
      "The Root Mean Squared Error is 4.55\n"
     ]
    }
   ],
   "source": [
    "y_forecasted = pred.predicted_mean\n",
    "y_truth = endog2['2018-01-31':]\n",
    "mse = ((y_forecasted - y_truth) ** 2).mean()\n",
    "print('The Mean Squared Error is {}'.format(round(mse, 2)))\n",
    "print('The Root Mean Squared Error is {}'.format(round(np.sqrt(mse), 2)))"
   ]
  },
  {
   "cell_type": "code",
   "execution_count": null,
   "metadata": {
    "colab": {
     "base_uri": "https://localhost:8080/",
     "height": 404
    },
    "id": "DSoLsnreggtR",
    "outputId": "7175227c-b102-4e89-a7ad-be0bf3ffc3a5"
   },
   "outputs": [
    {
     "ename": "ValueError",
     "evalue": "ignored",
     "output_type": "error",
     "traceback": [
      "\u001b[0;31m---------------------------------------------------------------------------\u001b[0m",
      "\u001b[0;31mValueError\u001b[0m                                Traceback (most recent call last)",
      "\u001b[0;32m<ipython-input-101-2f237adff149>\u001b[0m in \u001b[0;36m<module>\u001b[0;34m()\u001b[0m\n\u001b[0;32m----> 1\u001b[0;31m \u001b[0mpred_uc\u001b[0m \u001b[0;34m=\u001b[0m \u001b[0mresults\u001b[0m\u001b[0;34m.\u001b[0m\u001b[0mget_forecast\u001b[0m\u001b[0;34m(\u001b[0m\u001b[0mexog\u001b[0m\u001b[0;34m=\u001b[0m\u001b[0mexog2\u001b[0m\u001b[0;34m.\u001b[0m\u001b[0mloc\u001b[0m\u001b[0;34m[\u001b[0m\u001b[0;34m'2018'\u001b[0m\u001b[0;34m:\u001b[0m\u001b[0;34m]\u001b[0m\u001b[0;34m,\u001b[0m\u001b[0msteps\u001b[0m\u001b[0;34m=\u001b[0m\u001b[0;36m24\u001b[0m\u001b[0;34m)\u001b[0m\u001b[0;34m\u001b[0m\u001b[0;34m\u001b[0m\u001b[0m\n\u001b[0m\u001b[1;32m      2\u001b[0m \u001b[0mpred_ci\u001b[0m \u001b[0;34m=\u001b[0m \u001b[0mpred_uc\u001b[0m\u001b[0;34m.\u001b[0m\u001b[0mconf_int\u001b[0m\u001b[0;34m(\u001b[0m\u001b[0;34m)\u001b[0m\u001b[0;34m\u001b[0m\u001b[0;34m\u001b[0m\u001b[0m\n\u001b[1;32m      3\u001b[0m \u001b[0max\u001b[0m \u001b[0;34m=\u001b[0m \u001b[0mendog2\u001b[0m\u001b[0;34m.\u001b[0m\u001b[0mplot\u001b[0m\u001b[0;34m(\u001b[0m\u001b[0mlabel\u001b[0m\u001b[0;34m=\u001b[0m\u001b[0;34m'observed'\u001b[0m\u001b[0;34m,\u001b[0m \u001b[0mfigsize\u001b[0m\u001b[0;34m=\u001b[0m\u001b[0;34m(\u001b[0m\u001b[0;36m14\u001b[0m\u001b[0;34m,\u001b[0m \u001b[0;36m4\u001b[0m\u001b[0;34m)\u001b[0m\u001b[0;34m)\u001b[0m\u001b[0;34m\u001b[0m\u001b[0;34m\u001b[0m\u001b[0m\n\u001b[1;32m      4\u001b[0m \u001b[0mpred_uc\u001b[0m\u001b[0;34m.\u001b[0m\u001b[0mpredicted_mean\u001b[0m\u001b[0;34m.\u001b[0m\u001b[0mplot\u001b[0m\u001b[0;34m(\u001b[0m\u001b[0max\u001b[0m\u001b[0;34m=\u001b[0m\u001b[0max\u001b[0m\u001b[0;34m,\u001b[0m \u001b[0mlabel\u001b[0m\u001b[0;34m=\u001b[0m\u001b[0;34m'Forecast'\u001b[0m\u001b[0;34m)\u001b[0m\u001b[0;34m\u001b[0m\u001b[0;34m\u001b[0m\u001b[0m\n\u001b[1;32m      5\u001b[0m ax.fill_between(pred_ci.index,\n",
      "\u001b[0;32m/usr/local/lib/python3.7/dist-packages/statsmodels/tsa/statespace/mlemodel.py\u001b[0m in \u001b[0;36mget_forecast\u001b[0;34m(self, steps, **kwargs)\u001b[0m\n\u001b[1;32m   2418\u001b[0m         \u001b[0;32melse\u001b[0m\u001b[0;34m:\u001b[0m\u001b[0;34m\u001b[0m\u001b[0;34m\u001b[0m\u001b[0m\n\u001b[1;32m   2419\u001b[0m             \u001b[0mend\u001b[0m \u001b[0;34m=\u001b[0m \u001b[0msteps\u001b[0m\u001b[0;34m\u001b[0m\u001b[0;34m\u001b[0m\u001b[0m\n\u001b[0;32m-> 2420\u001b[0;31m         \u001b[0;32mreturn\u001b[0m \u001b[0mself\u001b[0m\u001b[0;34m.\u001b[0m\u001b[0mget_prediction\u001b[0m\u001b[0;34m(\u001b[0m\u001b[0mstart\u001b[0m\u001b[0;34m=\u001b[0m\u001b[0mself\u001b[0m\u001b[0;34m.\u001b[0m\u001b[0mnobs\u001b[0m\u001b[0;34m,\u001b[0m \u001b[0mend\u001b[0m\u001b[0;34m=\u001b[0m\u001b[0mend\u001b[0m\u001b[0;34m,\u001b[0m \u001b[0;34m**\u001b[0m\u001b[0mkwargs\u001b[0m\u001b[0;34m)\u001b[0m\u001b[0;34m\u001b[0m\u001b[0;34m\u001b[0m\u001b[0m\n\u001b[0m\u001b[1;32m   2421\u001b[0m \u001b[0;34m\u001b[0m\u001b[0m\n\u001b[1;32m   2422\u001b[0m     \u001b[0;32mdef\u001b[0m \u001b[0mpredict\u001b[0m\u001b[0;34m(\u001b[0m\u001b[0mself\u001b[0m\u001b[0;34m,\u001b[0m \u001b[0mstart\u001b[0m\u001b[0;34m=\u001b[0m\u001b[0;32mNone\u001b[0m\u001b[0;34m,\u001b[0m \u001b[0mend\u001b[0m\u001b[0;34m=\u001b[0m\u001b[0;32mNone\u001b[0m\u001b[0;34m,\u001b[0m \u001b[0mdynamic\u001b[0m\u001b[0;34m=\u001b[0m\u001b[0;32mFalse\u001b[0m\u001b[0;34m,\u001b[0m \u001b[0;34m**\u001b[0m\u001b[0mkwargs\u001b[0m\u001b[0;34m)\u001b[0m\u001b[0;34m:\u001b[0m\u001b[0;34m\u001b[0m\u001b[0;34m\u001b[0m\u001b[0m\n",
      "\u001b[0;32m/usr/local/lib/python3.7/dist-packages/statsmodels/tsa/statespace/sarimax.py\u001b[0m in \u001b[0;36mget_prediction\u001b[0;34m(self, start, end, dynamic, index, exog, **kwargs)\u001b[0m\n\u001b[1;32m   1912\u001b[0m                                      \u001b[0;34m' appropriate shape. Required %s, got %s.'\u001b[0m\u001b[0;34m\u001b[0m\u001b[0;34m\u001b[0m\u001b[0m\n\u001b[1;32m   1913\u001b[0m                                      % (str(required_exog_shape),\n\u001b[0;32m-> 1914\u001b[0;31m                                         str(exog.shape)))\n\u001b[0m\u001b[1;32m   1915\u001b[0m                 \u001b[0mexog\u001b[0m \u001b[0;34m=\u001b[0m \u001b[0mnp\u001b[0m\u001b[0;34m.\u001b[0m\u001b[0mc_\u001b[0m\u001b[0;34m[\u001b[0m\u001b[0mself\u001b[0m\u001b[0;34m.\u001b[0m\u001b[0mmodel\u001b[0m\u001b[0;34m.\u001b[0m\u001b[0mdata\u001b[0m\u001b[0;34m.\u001b[0m\u001b[0morig_exog\u001b[0m\u001b[0;34m.\u001b[0m\u001b[0mT\u001b[0m\u001b[0;34m,\u001b[0m \u001b[0mexog\u001b[0m\u001b[0;34m.\u001b[0m\u001b[0mT\u001b[0m\u001b[0;34m]\u001b[0m\u001b[0;34m.\u001b[0m\u001b[0mT\u001b[0m\u001b[0;34m\u001b[0m\u001b[0;34m\u001b[0m\u001b[0m\n\u001b[1;32m   1916\u001b[0m \u001b[0;34m\u001b[0m\u001b[0m\n",
      "\u001b[0;31mValueError\u001b[0m: Provided exogenous values are not of the appropriate shape. Required (24, 2), got (46, 2)."
     ]
    }
   ],
   "source": [
    "pred_uc = results.get_forecast(exog=exog2.loc['2018':],steps=24)\n",
    "pred_ci = pred_uc.conf_int()\n",
    "ax = endog2.plot(label='observed', figsize=(14, 4))\n",
    "pred_uc.predicted_mean.plot(ax=ax, label='Forecast')\n",
    "ax.fill_between(pred_ci.index,\n",
    "                pred_ci.iloc[:, 0],\n",
    "                pred_ci.iloc[:, 1], color='k', alpha=.25)\n",
    "ax.set_xlabel('Date')\n",
    "ax.set_ylabel('Case Count')\n",
    "plt.legend()\n",
    "plt.show()"
   ]
  },
  {
   "cell_type": "code",
   "execution_count": null,
   "metadata": {
    "id": "2Z15ppVwudW6"
   },
   "outputs": [],
   "source": [
    "temp = pd.read_csv('/content/drive/My Drive/DS4A/FutureTemp.csv',parse_dates=['date'], index_col='date')"
   ]
  },
  {
   "cell_type": "code",
   "execution_count": null,
   "metadata": {
    "colab": {
     "base_uri": "https://localhost:8080/",
     "height": 237
    },
    "id": "PWHalxogvLjQ",
    "outputId": "b9334156-fe9a-478b-9331-265228b7e0ae"
   },
   "outputs": [
    {
     "data": {
      "text/html": [
       "\n",
       "  <div id=\"df-801423f9-73f9-4d08-bb8b-1d5baa996bbb\">\n",
       "    <div class=\"colab-df-container\">\n",
       "      <div>\n",
       "<style scoped>\n",
       "    .dataframe tbody tr th:only-of-type {\n",
       "        vertical-align: middle;\n",
       "    }\n",
       "\n",
       "    .dataframe tbody tr th {\n",
       "        vertical-align: top;\n",
       "    }\n",
       "\n",
       "    .dataframe thead th {\n",
       "        text-align: right;\n",
       "    }\n",
       "</style>\n",
       "<table border=\"1\" class=\"dataframe\">\n",
       "  <thead>\n",
       "    <tr style=\"text-align: right;\">\n",
       "      <th></th>\n",
       "      <th>0.5</th>\n",
       "      <th>1</th>\n",
       "      <th>1.5</th>\n",
       "      <th>2</th>\n",
       "    </tr>\n",
       "    <tr>\n",
       "      <th>date</th>\n",
       "      <th></th>\n",
       "      <th></th>\n",
       "      <th></th>\n",
       "      <th></th>\n",
       "    </tr>\n",
       "  </thead>\n",
       "  <tbody>\n",
       "    <tr>\n",
       "      <th>2022-01-31</th>\n",
       "      <td>6.920874</td>\n",
       "      <td>7.020874</td>\n",
       "      <td>7.120874</td>\n",
       "      <td>7.220874</td>\n",
       "    </tr>\n",
       "    <tr>\n",
       "      <th>2022-02-28</th>\n",
       "      <td>9.959015</td>\n",
       "      <td>10.059015</td>\n",
       "      <td>10.159015</td>\n",
       "      <td>10.259015</td>\n",
       "    </tr>\n",
       "    <tr>\n",
       "      <th>2022-03-31</th>\n",
       "      <td>8.918966</td>\n",
       "      <td>9.018966</td>\n",
       "      <td>9.118966</td>\n",
       "      <td>9.218966</td>\n",
       "    </tr>\n",
       "    <tr>\n",
       "      <th>2022-04-30</th>\n",
       "      <td>11.811700</td>\n",
       "      <td>11.911700</td>\n",
       "      <td>12.011700</td>\n",
       "      <td>12.111700</td>\n",
       "    </tr>\n",
       "    <tr>\n",
       "      <th>2022-05-31</th>\n",
       "      <td>17.608966</td>\n",
       "      <td>17.708966</td>\n",
       "      <td>17.808966</td>\n",
       "      <td>17.908966</td>\n",
       "    </tr>\n",
       "  </tbody>\n",
       "</table>\n",
       "</div>\n",
       "      <button class=\"colab-df-convert\" onclick=\"convertToInteractive('df-801423f9-73f9-4d08-bb8b-1d5baa996bbb')\"\n",
       "              title=\"Convert this dataframe to an interactive table.\"\n",
       "              style=\"display:none;\">\n",
       "        \n",
       "  <svg xmlns=\"http://www.w3.org/2000/svg\" height=\"24px\"viewBox=\"0 0 24 24\"\n",
       "       width=\"24px\">\n",
       "    <path d=\"M0 0h24v24H0V0z\" fill=\"none\"/>\n",
       "    <path d=\"M18.56 5.44l.94 2.06.94-2.06 2.06-.94-2.06-.94-.94-2.06-.94 2.06-2.06.94zm-11 1L8.5 8.5l.94-2.06 2.06-.94-2.06-.94L8.5 2.5l-.94 2.06-2.06.94zm10 10l.94 2.06.94-2.06 2.06-.94-2.06-.94-.94-2.06-.94 2.06-2.06.94z\"/><path d=\"M17.41 7.96l-1.37-1.37c-.4-.4-.92-.59-1.43-.59-.52 0-1.04.2-1.43.59L10.3 9.45l-7.72 7.72c-.78.78-.78 2.05 0 2.83L4 21.41c.39.39.9.59 1.41.59.51 0 1.02-.2 1.41-.59l7.78-7.78 2.81-2.81c.8-.78.8-2.07 0-2.86zM5.41 20L4 18.59l7.72-7.72 1.47 1.35L5.41 20z\"/>\n",
       "  </svg>\n",
       "      </button>\n",
       "      \n",
       "  <style>\n",
       "    .colab-df-container {\n",
       "      display:flex;\n",
       "      flex-wrap:wrap;\n",
       "      gap: 12px;\n",
       "    }\n",
       "\n",
       "    .colab-df-convert {\n",
       "      background-color: #E8F0FE;\n",
       "      border: none;\n",
       "      border-radius: 50%;\n",
       "      cursor: pointer;\n",
       "      display: none;\n",
       "      fill: #1967D2;\n",
       "      height: 32px;\n",
       "      padding: 0 0 0 0;\n",
       "      width: 32px;\n",
       "    }\n",
       "\n",
       "    .colab-df-convert:hover {\n",
       "      background-color: #E2EBFA;\n",
       "      box-shadow: 0px 1px 2px rgba(60, 64, 67, 0.3), 0px 1px 3px 1px rgba(60, 64, 67, 0.15);\n",
       "      fill: #174EA6;\n",
       "    }\n",
       "\n",
       "    [theme=dark] .colab-df-convert {\n",
       "      background-color: #3B4455;\n",
       "      fill: #D2E3FC;\n",
       "    }\n",
       "\n",
       "    [theme=dark] .colab-df-convert:hover {\n",
       "      background-color: #434B5C;\n",
       "      box-shadow: 0px 1px 3px 1px rgba(0, 0, 0, 0.15);\n",
       "      filter: drop-shadow(0px 1px 2px rgba(0, 0, 0, 0.3));\n",
       "      fill: #FFFFFF;\n",
       "    }\n",
       "  </style>\n",
       "\n",
       "      <script>\n",
       "        const buttonEl =\n",
       "          document.querySelector('#df-801423f9-73f9-4d08-bb8b-1d5baa996bbb button.colab-df-convert');\n",
       "        buttonEl.style.display =\n",
       "          google.colab.kernel.accessAllowed ? 'block' : 'none';\n",
       "\n",
       "        async function convertToInteractive(key) {\n",
       "          const element = document.querySelector('#df-801423f9-73f9-4d08-bb8b-1d5baa996bbb');\n",
       "          const dataTable =\n",
       "            await google.colab.kernel.invokeFunction('convertToInteractive',\n",
       "                                                     [key], {});\n",
       "          if (!dataTable) return;\n",
       "\n",
       "          const docLinkHtml = 'Like what you see? Visit the ' +\n",
       "            '<a target=\"_blank\" href=https://colab.research.google.com/notebooks/data_table.ipynb>data table notebook</a>'\n",
       "            + ' to learn more about interactive tables.';\n",
       "          element.innerHTML = '';\n",
       "          dataTable['output_type'] = 'display_data';\n",
       "          await google.colab.output.renderOutput(dataTable, element);\n",
       "          const docLink = document.createElement('div');\n",
       "          docLink.innerHTML = docLinkHtml;\n",
       "          element.appendChild(docLink);\n",
       "        }\n",
       "      </script>\n",
       "    </div>\n",
       "  </div>\n",
       "  "
      ],
      "text/plain": [
       "                  0.5          1        1.5          2\n",
       "date                                                  \n",
       "2022-01-31   6.920874   7.020874   7.120874   7.220874\n",
       "2022-02-28   9.959015  10.059015  10.159015  10.259015\n",
       "2022-03-31   8.918966   9.018966   9.118966   9.218966\n",
       "2022-04-30  11.811700  11.911700  12.011700  12.111700\n",
       "2022-05-31  17.608966  17.708966  17.808966  17.908966"
      ]
     },
     "execution_count": 80,
     "metadata": {},
     "output_type": "execute_result"
    }
   ],
   "source": [
    "temp.head()"
   ]
  },
  {
   "cell_type": "code",
   "execution_count": null,
   "metadata": {
    "id": "ltbP6griIssl"
   },
   "outputs": [],
   "source": [
    "exog_half = sm.add_constant(temp['0.5'])"
   ]
  },
  {
   "cell_type": "code",
   "execution_count": null,
   "metadata": {
    "colab": {
     "base_uri": "https://localhost:8080/",
     "height": 237
    },
    "id": "_VRCOA1cwNVn",
    "outputId": "26a01cf2-2d2a-48ec-a1b3-0b7d73e358af"
   },
   "outputs": [
    {
     "data": {
      "text/html": [
       "\n",
       "  <div id=\"df-1a10b56f-86ef-421c-a288-2eb024860b02\">\n",
       "    <div class=\"colab-df-container\">\n",
       "      <div>\n",
       "<style scoped>\n",
       "    .dataframe tbody tr th:only-of-type {\n",
       "        vertical-align: middle;\n",
       "    }\n",
       "\n",
       "    .dataframe tbody tr th {\n",
       "        vertical-align: top;\n",
       "    }\n",
       "\n",
       "    .dataframe thead th {\n",
       "        text-align: right;\n",
       "    }\n",
       "</style>\n",
       "<table border=\"1\" class=\"dataframe\">\n",
       "  <thead>\n",
       "    <tr style=\"text-align: right;\">\n",
       "      <th></th>\n",
       "      <th>const</th>\n",
       "      <th>0.5</th>\n",
       "    </tr>\n",
       "    <tr>\n",
       "      <th>date</th>\n",
       "      <th></th>\n",
       "      <th></th>\n",
       "    </tr>\n",
       "  </thead>\n",
       "  <tbody>\n",
       "    <tr>\n",
       "      <th>2022-01-31</th>\n",
       "      <td>1.0</td>\n",
       "      <td>6.920874</td>\n",
       "    </tr>\n",
       "    <tr>\n",
       "      <th>2022-02-28</th>\n",
       "      <td>1.0</td>\n",
       "      <td>9.959015</td>\n",
       "    </tr>\n",
       "    <tr>\n",
       "      <th>2022-03-31</th>\n",
       "      <td>1.0</td>\n",
       "      <td>8.918966</td>\n",
       "    </tr>\n",
       "    <tr>\n",
       "      <th>2022-04-30</th>\n",
       "      <td>1.0</td>\n",
       "      <td>11.811700</td>\n",
       "    </tr>\n",
       "    <tr>\n",
       "      <th>2022-05-31</th>\n",
       "      <td>1.0</td>\n",
       "      <td>17.608966</td>\n",
       "    </tr>\n",
       "  </tbody>\n",
       "</table>\n",
       "</div>\n",
       "      <button class=\"colab-df-convert\" onclick=\"convertToInteractive('df-1a10b56f-86ef-421c-a288-2eb024860b02')\"\n",
       "              title=\"Convert this dataframe to an interactive table.\"\n",
       "              style=\"display:none;\">\n",
       "        \n",
       "  <svg xmlns=\"http://www.w3.org/2000/svg\" height=\"24px\"viewBox=\"0 0 24 24\"\n",
       "       width=\"24px\">\n",
       "    <path d=\"M0 0h24v24H0V0z\" fill=\"none\"/>\n",
       "    <path d=\"M18.56 5.44l.94 2.06.94-2.06 2.06-.94-2.06-.94-.94-2.06-.94 2.06-2.06.94zm-11 1L8.5 8.5l.94-2.06 2.06-.94-2.06-.94L8.5 2.5l-.94 2.06-2.06.94zm10 10l.94 2.06.94-2.06 2.06-.94-2.06-.94-.94-2.06-.94 2.06-2.06.94z\"/><path d=\"M17.41 7.96l-1.37-1.37c-.4-.4-.92-.59-1.43-.59-.52 0-1.04.2-1.43.59L10.3 9.45l-7.72 7.72c-.78.78-.78 2.05 0 2.83L4 21.41c.39.39.9.59 1.41.59.51 0 1.02-.2 1.41-.59l7.78-7.78 2.81-2.81c.8-.78.8-2.07 0-2.86zM5.41 20L4 18.59l7.72-7.72 1.47 1.35L5.41 20z\"/>\n",
       "  </svg>\n",
       "      </button>\n",
       "      \n",
       "  <style>\n",
       "    .colab-df-container {\n",
       "      display:flex;\n",
       "      flex-wrap:wrap;\n",
       "      gap: 12px;\n",
       "    }\n",
       "\n",
       "    .colab-df-convert {\n",
       "      background-color: #E8F0FE;\n",
       "      border: none;\n",
       "      border-radius: 50%;\n",
       "      cursor: pointer;\n",
       "      display: none;\n",
       "      fill: #1967D2;\n",
       "      height: 32px;\n",
       "      padding: 0 0 0 0;\n",
       "      width: 32px;\n",
       "    }\n",
       "\n",
       "    .colab-df-convert:hover {\n",
       "      background-color: #E2EBFA;\n",
       "      box-shadow: 0px 1px 2px rgba(60, 64, 67, 0.3), 0px 1px 3px 1px rgba(60, 64, 67, 0.15);\n",
       "      fill: #174EA6;\n",
       "    }\n",
       "\n",
       "    [theme=dark] .colab-df-convert {\n",
       "      background-color: #3B4455;\n",
       "      fill: #D2E3FC;\n",
       "    }\n",
       "\n",
       "    [theme=dark] .colab-df-convert:hover {\n",
       "      background-color: #434B5C;\n",
       "      box-shadow: 0px 1px 3px 1px rgba(0, 0, 0, 0.15);\n",
       "      filter: drop-shadow(0px 1px 2px rgba(0, 0, 0, 0.3));\n",
       "      fill: #FFFFFF;\n",
       "    }\n",
       "  </style>\n",
       "\n",
       "      <script>\n",
       "        const buttonEl =\n",
       "          document.querySelector('#df-1a10b56f-86ef-421c-a288-2eb024860b02 button.colab-df-convert');\n",
       "        buttonEl.style.display =\n",
       "          google.colab.kernel.accessAllowed ? 'block' : 'none';\n",
       "\n",
       "        async function convertToInteractive(key) {\n",
       "          const element = document.querySelector('#df-1a10b56f-86ef-421c-a288-2eb024860b02');\n",
       "          const dataTable =\n",
       "            await google.colab.kernel.invokeFunction('convertToInteractive',\n",
       "                                                     [key], {});\n",
       "          if (!dataTable) return;\n",
       "\n",
       "          const docLinkHtml = 'Like what you see? Visit the ' +\n",
       "            '<a target=\"_blank\" href=https://colab.research.google.com/notebooks/data_table.ipynb>data table notebook</a>'\n",
       "            + ' to learn more about interactive tables.';\n",
       "          element.innerHTML = '';\n",
       "          dataTable['output_type'] = 'display_data';\n",
       "          await google.colab.output.renderOutput(dataTable, element);\n",
       "          const docLink = document.createElement('div');\n",
       "          docLink.innerHTML = docLinkHtml;\n",
       "          element.appendChild(docLink);\n",
       "        }\n",
       "      </script>\n",
       "    </div>\n",
       "  </div>\n",
       "  "
      ],
      "text/plain": [
       "            const        0.5\n",
       "date                        \n",
       "2022-01-31    1.0   6.920874\n",
       "2022-02-28    1.0   9.959015\n",
       "2022-03-31    1.0   8.918966\n",
       "2022-04-30    1.0  11.811700\n",
       "2022-05-31    1.0  17.608966"
      ]
     },
     "execution_count": 87,
     "metadata": {},
     "output_type": "execute_result"
    }
   ],
   "source": [
    "exog_half.head()"
   ]
  },
  {
   "cell_type": "code",
   "execution_count": null,
   "metadata": {
    "colab": {
     "base_uri": "https://localhost:8080/",
     "height": 770
    },
    "id": "N8nYwcgLNtAj",
    "outputId": "9593e7f6-71d3-4358-ef5d-99f926394272"
   },
   "outputs": [
    {
     "data": {
      "text/html": [
       "\n",
       "  <div id=\"df-0b60f291-fb39-49af-99ae-315d4578bf99\">\n",
       "    <div class=\"colab-df-container\">\n",
       "      <div>\n",
       "<style scoped>\n",
       "    .dataframe tbody tr th:only-of-type {\n",
       "        vertical-align: middle;\n",
       "    }\n",
       "\n",
       "    .dataframe tbody tr th {\n",
       "        vertical-align: top;\n",
       "    }\n",
       "\n",
       "    .dataframe thead th {\n",
       "        text-align: right;\n",
       "    }\n",
       "</style>\n",
       "<table border=\"1\" class=\"dataframe\">\n",
       "  <thead>\n",
       "    <tr style=\"text-align: right;\">\n",
       "      <th></th>\n",
       "      <th>const</th>\n",
       "      <th>temp_mean_celsius</th>\n",
       "    </tr>\n",
       "    <tr>\n",
       "      <th>date</th>\n",
       "      <th></th>\n",
       "      <th></th>\n",
       "    </tr>\n",
       "  </thead>\n",
       "  <tbody>\n",
       "    <tr>\n",
       "      <th>2020-01-31</th>\n",
       "      <td>1.0</td>\n",
       "      <td>6.820874</td>\n",
       "    </tr>\n",
       "    <tr>\n",
       "      <th>2020-02-29</th>\n",
       "      <td>1.0</td>\n",
       "      <td>9.859015</td>\n",
       "    </tr>\n",
       "    <tr>\n",
       "      <th>2020-03-31</th>\n",
       "      <td>1.0</td>\n",
       "      <td>8.818966</td>\n",
       "    </tr>\n",
       "    <tr>\n",
       "      <th>2020-04-30</th>\n",
       "      <td>1.0</td>\n",
       "      <td>11.711700</td>\n",
       "    </tr>\n",
       "    <tr>\n",
       "      <th>2020-05-31</th>\n",
       "      <td>1.0</td>\n",
       "      <td>17.508966</td>\n",
       "    </tr>\n",
       "    <tr>\n",
       "      <th>2020-06-30</th>\n",
       "      <td>1.0</td>\n",
       "      <td>20.194643</td>\n",
       "    </tr>\n",
       "    <tr>\n",
       "      <th>2020-07-31</th>\n",
       "      <td>1.0</td>\n",
       "      <td>22.617303</td>\n",
       "    </tr>\n",
       "    <tr>\n",
       "      <th>2020-08-31</th>\n",
       "      <td>1.0</td>\n",
       "      <td>25.003547</td>\n",
       "    </tr>\n",
       "    <tr>\n",
       "      <th>2020-09-30</th>\n",
       "      <td>1.0</td>\n",
       "      <td>22.860099</td>\n",
       "    </tr>\n",
       "    <tr>\n",
       "      <th>2020-10-31</th>\n",
       "      <td>1.0</td>\n",
       "      <td>19.976010</td>\n",
       "    </tr>\n",
       "    <tr>\n",
       "      <th>2020-11-30</th>\n",
       "      <td>1.0</td>\n",
       "      <td>10.774631</td>\n",
       "    </tr>\n",
       "    <tr>\n",
       "      <th>2020-12-31</th>\n",
       "      <td>1.0</td>\n",
       "      <td>8.604433</td>\n",
       "    </tr>\n",
       "    <tr>\n",
       "      <th>2021-01-31</th>\n",
       "      <td>1.0</td>\n",
       "      <td>7.620837</td>\n",
       "    </tr>\n",
       "    <tr>\n",
       "      <th>2021-02-28</th>\n",
       "      <td>1.0</td>\n",
       "      <td>8.700739</td>\n",
       "    </tr>\n",
       "    <tr>\n",
       "      <th>2021-03-31</th>\n",
       "      <td>1.0</td>\n",
       "      <td>7.976170</td>\n",
       "    </tr>\n",
       "    <tr>\n",
       "      <th>2021-04-30</th>\n",
       "      <td>1.0</td>\n",
       "      <td>13.891010</td>\n",
       "    </tr>\n",
       "    <tr>\n",
       "      <th>2021-05-31</th>\n",
       "      <td>1.0</td>\n",
       "      <td>16.166158</td>\n",
       "    </tr>\n",
       "    <tr>\n",
       "      <th>2021-06-30</th>\n",
       "      <td>1.0</td>\n",
       "      <td>21.492919</td>\n",
       "    </tr>\n",
       "    <tr>\n",
       "      <th>2021-07-31</th>\n",
       "      <td>1.0</td>\n",
       "      <td>25.247882</td>\n",
       "    </tr>\n",
       "    <tr>\n",
       "      <th>2021-08-31</th>\n",
       "      <td>1.0</td>\n",
       "      <td>23.782389</td>\n",
       "    </tr>\n",
       "    <tr>\n",
       "      <th>2021-09-30</th>\n",
       "      <td>1.0</td>\n",
       "      <td>22.899076</td>\n",
       "    </tr>\n",
       "    <tr>\n",
       "      <th>2021-10-31</th>\n",
       "      <td>1.0</td>\n",
       "      <td>17.821839</td>\n",
       "    </tr>\n",
       "  </tbody>\n",
       "</table>\n",
       "</div>\n",
       "      <button class=\"colab-df-convert\" onclick=\"convertToInteractive('df-0b60f291-fb39-49af-99ae-315d4578bf99')\"\n",
       "              title=\"Convert this dataframe to an interactive table.\"\n",
       "              style=\"display:none;\">\n",
       "        \n",
       "  <svg xmlns=\"http://www.w3.org/2000/svg\" height=\"24px\"viewBox=\"0 0 24 24\"\n",
       "       width=\"24px\">\n",
       "    <path d=\"M0 0h24v24H0V0z\" fill=\"none\"/>\n",
       "    <path d=\"M18.56 5.44l.94 2.06.94-2.06 2.06-.94-2.06-.94-.94-2.06-.94 2.06-2.06.94zm-11 1L8.5 8.5l.94-2.06 2.06-.94-2.06-.94L8.5 2.5l-.94 2.06-2.06.94zm10 10l.94 2.06.94-2.06 2.06-.94-2.06-.94-.94-2.06-.94 2.06-2.06.94z\"/><path d=\"M17.41 7.96l-1.37-1.37c-.4-.4-.92-.59-1.43-.59-.52 0-1.04.2-1.43.59L10.3 9.45l-7.72 7.72c-.78.78-.78 2.05 0 2.83L4 21.41c.39.39.9.59 1.41.59.51 0 1.02-.2 1.41-.59l7.78-7.78 2.81-2.81c.8-.78.8-2.07 0-2.86zM5.41 20L4 18.59l7.72-7.72 1.47 1.35L5.41 20z\"/>\n",
       "  </svg>\n",
       "      </button>\n",
       "      \n",
       "  <style>\n",
       "    .colab-df-container {\n",
       "      display:flex;\n",
       "      flex-wrap:wrap;\n",
       "      gap: 12px;\n",
       "    }\n",
       "\n",
       "    .colab-df-convert {\n",
       "      background-color: #E8F0FE;\n",
       "      border: none;\n",
       "      border-radius: 50%;\n",
       "      cursor: pointer;\n",
       "      display: none;\n",
       "      fill: #1967D2;\n",
       "      height: 32px;\n",
       "      padding: 0 0 0 0;\n",
       "      width: 32px;\n",
       "    }\n",
       "\n",
       "    .colab-df-convert:hover {\n",
       "      background-color: #E2EBFA;\n",
       "      box-shadow: 0px 1px 2px rgba(60, 64, 67, 0.3), 0px 1px 3px 1px rgba(60, 64, 67, 0.15);\n",
       "      fill: #174EA6;\n",
       "    }\n",
       "\n",
       "    [theme=dark] .colab-df-convert {\n",
       "      background-color: #3B4455;\n",
       "      fill: #D2E3FC;\n",
       "    }\n",
       "\n",
       "    [theme=dark] .colab-df-convert:hover {\n",
       "      background-color: #434B5C;\n",
       "      box-shadow: 0px 1px 3px 1px rgba(0, 0, 0, 0.15);\n",
       "      filter: drop-shadow(0px 1px 2px rgba(0, 0, 0, 0.3));\n",
       "      fill: #FFFFFF;\n",
       "    }\n",
       "  </style>\n",
       "\n",
       "      <script>\n",
       "        const buttonEl =\n",
       "          document.querySelector('#df-0b60f291-fb39-49af-99ae-315d4578bf99 button.colab-df-convert');\n",
       "        buttonEl.style.display =\n",
       "          google.colab.kernel.accessAllowed ? 'block' : 'none';\n",
       "\n",
       "        async function convertToInteractive(key) {\n",
       "          const element = document.querySelector('#df-0b60f291-fb39-49af-99ae-315d4578bf99');\n",
       "          const dataTable =\n",
       "            await google.colab.kernel.invokeFunction('convertToInteractive',\n",
       "                                                     [key], {});\n",
       "          if (!dataTable) return;\n",
       "\n",
       "          const docLinkHtml = 'Like what you see? Visit the ' +\n",
       "            '<a target=\"_blank\" href=https://colab.research.google.com/notebooks/data_table.ipynb>data table notebook</a>'\n",
       "            + ' to learn more about interactive tables.';\n",
       "          element.innerHTML = '';\n",
       "          dataTable['output_type'] = 'display_data';\n",
       "          await google.colab.output.renderOutput(dataTable, element);\n",
       "          const docLink = document.createElement('div');\n",
       "          docLink.innerHTML = docLinkHtml;\n",
       "          element.appendChild(docLink);\n",
       "        }\n",
       "      </script>\n",
       "    </div>\n",
       "  </div>\n",
       "  "
      ],
      "text/plain": [
       "            const  temp_mean_celsius\n",
       "date                                \n",
       "2020-01-31    1.0           6.820874\n",
       "2020-02-29    1.0           9.859015\n",
       "2020-03-31    1.0           8.818966\n",
       "2020-04-30    1.0          11.711700\n",
       "2020-05-31    1.0          17.508966\n",
       "2020-06-30    1.0          20.194643\n",
       "2020-07-31    1.0          22.617303\n",
       "2020-08-31    1.0          25.003547\n",
       "2020-09-30    1.0          22.860099\n",
       "2020-10-31    1.0          19.976010\n",
       "2020-11-30    1.0          10.774631\n",
       "2020-12-31    1.0           8.604433\n",
       "2021-01-31    1.0           7.620837\n",
       "2021-02-28    1.0           8.700739\n",
       "2021-03-31    1.0           7.976170\n",
       "2021-04-30    1.0          13.891010\n",
       "2021-05-31    1.0          16.166158\n",
       "2021-06-30    1.0          21.492919\n",
       "2021-07-31    1.0          25.247882\n",
       "2021-08-31    1.0          23.782389\n",
       "2021-09-30    1.0          22.899076\n",
       "2021-10-31    1.0          17.821839"
      ]
     },
     "execution_count": 62,
     "metadata": {},
     "output_type": "execute_result"
    }
   ],
   "source": [
    "exog_test"
   ]
  },
  {
   "cell_type": "code",
   "execution_count": null,
   "metadata": {
    "colab": {
     "base_uri": "https://localhost:8080/",
     "height": 330
    },
    "id": "iKctyDW-K600",
    "outputId": "be72b100-0297-413a-ae46-d4080080c5a3"
   },
   "outputs": [
    {
     "data": {
      "image/png": "[encoded data removed]",
      "text/plain": [
       "<Figure size 1120x320 with 1 Axes>"
      ]
     },
     "metadata": {},
     "output_type": "display_data"
    }
   ],
   "source": [
    "pred_uc = results.get_forecast(exog=exog_half,steps=60)\n",
    "pred_ci = pred_uc.conf_int()\n",
    "ax = endog2.plot(label='observed', figsize=(14, 4))\n",
    "pred_uc.predicted_mean.plot(ax=ax, label='Forecast')\n",
    "ax.fill_between(pred_ci.index,\n",
    "                pred_ci.iloc[:, 0],\n",
    "                pred_ci.iloc[:, 1], color='k', alpha=.25)\n",
    "ax.set_xlabel('Date')\n",
    "ax.set_ylabel('Case Count')\n",
    "plt.legend()\n",
    "plt.show()"
   ]
  },
  {
   "cell_type": "code",
   "execution_count": null,
   "metadata": {
    "colab": {
     "base_uri": "https://localhost:8080/"
    },
    "id": "9Pa4eW6qgynG",
    "outputId": "5851f21e-b74e-4a04-d2ef-7336719ab8f5"
   },
   "outputs": [
    {
     "data": {
      "text/plain": [
       "date\n",
       "2018-01-31     7.803439\n",
       "2018-02-28    14.463099\n",
       "2018-03-31    -2.266233\n",
       "2018-04-30     1.347740\n",
       "2018-05-31    -1.112375\n",
       "2018-06-30     0.119115\n",
       "2018-07-31     0.705323\n",
       "2018-08-31     0.093141\n",
       "2018-09-30    -0.797042\n",
       "2018-10-31     5.186540\n",
       "2018-11-30    31.636988\n",
       "2018-12-31    10.017489\n",
       "2019-01-31     5.779193\n",
       "2019-02-28     1.624987\n",
       "2019-03-31     0.413539\n",
       "2019-04-30     0.803914\n",
       "2019-05-31    -1.145990\n",
       "2019-06-30    -0.152652\n",
       "2019-07-31    -2.566635\n",
       "2019-08-31     0.248990\n",
       "2019-09-30     0.662794\n",
       "2019-10-31     3.803837\n",
       "2019-11-30    27.375866\n",
       "2019-12-31     6.543975\n",
       "2020-01-31     3.496786\n",
       "2020-02-29     7.658911\n",
       "2020-03-31     0.091169\n",
       "2020-04-30    -2.254197\n",
       "2020-05-31     3.203769\n",
       "2020-06-30     0.428277\n",
       "2020-07-31     0.093341\n",
       "2020-08-31     1.197435\n",
       "2020-09-30     2.705617\n",
       "2020-10-31    12.226888\n",
       "2020-11-30     9.334347\n",
       "2020-12-31    13.154871\n",
       "Freq: M, dtype: float64"
      ]
     },
     "execution_count": 112,
     "metadata": {},
     "output_type": "execute_result"
    }
   ],
   "source": [
    "y_forecasted = pred.predicted_mean\n",
    "y_forecasted.head(60)"
   ]
  },
  {
   "cell_type": "code",
   "execution_count": null,
   "metadata": {
    "colab": {
     "base_uri": "https://localhost:8080/",
     "height": 556
    },
    "id": "NNeJs6TeS6-0",
    "outputId": "f4219d4e-fb19-402b-d659-6b1cd58a58c3"
   },
   "outputs": [
    {
     "data": {
      "text/plain": [
       "<matplotlib.axes._subplots.AxesSubplot at 0x7f7108ed7410>"
      ]
     },
     "execution_count": 113,
     "metadata": {},
     "output_type": "execute_result"
    },
    {
     "data": {
      "image/png": "[encoded data removed]",
      "text/plain": [
       "<Figure size 720x560 with 1 Axes>"
      ]
     },
     "metadata": {},
     "output_type": "display_data"
    }
   ],
   "source": [
    "y_forecasted.plot()"
   ]
  },
  {
   "cell_type": "code",
   "execution_count": null,
   "metadata": {
    "colab": {
     "base_uri": "https://localhost:8080/"
    },
    "id": "GdboRGrWh1Cd",
    "outputId": "ce06c0ef-d5af-47dc-af13-043bc214bad4"
   },
   "outputs": [
    {
     "data": {
      "text/plain": [
       "date\n",
       "2018-01-31     7.389207\n",
       "2018-02-28     4.897392\n",
       "2018-03-31     0.000000\n",
       "2018-04-30     0.000000\n",
       "2018-05-31     0.000000\n",
       "2018-06-30     0.000000\n",
       "2018-07-31     0.000000\n",
       "2018-08-31     0.533672\n",
       "2018-09-30     0.670406\n",
       "2018-10-31     4.975948\n",
       "2018-11-30    27.976431\n",
       "2018-12-31     6.855786\n",
       "2019-01-31     4.151012\n",
       "2019-02-28     3.717936\n",
       "2019-03-31     0.000000\n",
       "2019-04-30     0.000000\n",
       "2019-05-31     0.000000\n",
       "2019-06-30     0.000000\n",
       "2019-07-31     0.000000\n",
       "2019-08-31     0.000000\n",
       "2019-09-30     0.597700\n",
       "2019-10-31     7.689052\n",
       "2019-11-30    10.229997\n",
       "2019-12-31    12.410025\n",
       "Freq: M, Name: cases_per_100k, dtype: float64"
      ]
     },
     "execution_count": 66,
     "metadata": {},
     "output_type": "execute_result"
    }
   ],
   "source": [
    "y_truth.head(24)"
   ]
  },
  {
   "cell_type": "code",
   "execution_count": null,
   "metadata": {
    "colab": {
     "base_uri": "https://localhost:8080/",
     "height": 556
    },
    "id": "eCapdcgWTAV_",
    "outputId": "9a45e147-92e8-42fd-e556-c0d38a0a5582"
   },
   "outputs": [
    {
     "data": {
      "text/plain": [
       "<matplotlib.axes._subplots.AxesSubplot at 0x7f710ac17b10>"
      ]
     },
     "execution_count": 67,
     "metadata": {},
     "output_type": "execute_result"
    },
    {
     "data": {
      "image/png": "[encoded data removed]",
      "text/plain": [
       "<Figure size 720x560 with 1 Axes>"
      ]
     },
     "metadata": {},
     "output_type": "display_data"
    }
   ],
   "source": [
    "y_truth.plot()"
   ]
  },
  {
   "cell_type": "code",
   "execution_count": null,
   "metadata": {
    "colab": {
     "base_uri": "https://localhost:8080/",
     "height": 802
    },
    "id": "hirJO2JCinDM",
    "outputId": "7644aa68-bec9-4797-e750-1a0ae546f3a2"
   },
   "outputs": [
    {
     "data": {
      "text/html": [
       "\n",
       "  <div id=\"df-299fec83-7793-4dd2-8c71-e7b028fd9b19\">\n",
       "    <div class=\"colab-df-container\">\n",
       "      <div>\n",
       "<style scoped>\n",
       "    .dataframe tbody tr th:only-of-type {\n",
       "        vertical-align: middle;\n",
       "    }\n",
       "\n",
       "    .dataframe tbody tr th {\n",
       "        vertical-align: top;\n",
       "    }\n",
       "\n",
       "    .dataframe thead th {\n",
       "        text-align: right;\n",
       "    }\n",
       "</style>\n",
       "<table border=\"1\" class=\"dataframe\">\n",
       "  <thead>\n",
       "    <tr style=\"text-align: right;\">\n",
       "      <th></th>\n",
       "      <th>lower cases_per_100k</th>\n",
       "      <th>upper cases_per_100k</th>\n",
       "    </tr>\n",
       "  </thead>\n",
       "  <tbody>\n",
       "    <tr>\n",
       "      <th>2021-01-31</th>\n",
       "      <td>-15.153491</td>\n",
       "      <td>23.358321</td>\n",
       "    </tr>\n",
       "    <tr>\n",
       "      <th>2021-02-28</th>\n",
       "      <td>-16.735467</td>\n",
       "      <td>21.776345</td>\n",
       "    </tr>\n",
       "    <tr>\n",
       "      <th>2021-03-31</th>\n",
       "      <td>-19.151372</td>\n",
       "      <td>19.360440</td>\n",
       "    </tr>\n",
       "    <tr>\n",
       "      <th>2021-04-30</th>\n",
       "      <td>-19.217486</td>\n",
       "      <td>19.294327</td>\n",
       "    </tr>\n",
       "    <tr>\n",
       "      <th>2021-05-31</th>\n",
       "      <td>-19.063631</td>\n",
       "      <td>19.448181</td>\n",
       "    </tr>\n",
       "    <tr>\n",
       "      <th>2021-06-30</th>\n",
       "      <td>-19.141870</td>\n",
       "      <td>19.369943</td>\n",
       "    </tr>\n",
       "    <tr>\n",
       "      <th>2021-07-31</th>\n",
       "      <td>-19.151311</td>\n",
       "      <td>19.360501</td>\n",
       "    </tr>\n",
       "    <tr>\n",
       "      <th>2021-08-31</th>\n",
       "      <td>-18.944415</td>\n",
       "      <td>19.567398</td>\n",
       "    </tr>\n",
       "    <tr>\n",
       "      <th>2021-09-30</th>\n",
       "      <td>-18.270257</td>\n",
       "      <td>20.241555</td>\n",
       "    </tr>\n",
       "    <tr>\n",
       "      <th>2021-10-31</th>\n",
       "      <td>-12.435526</td>\n",
       "      <td>26.076287</td>\n",
       "    </tr>\n",
       "    <tr>\n",
       "      <th>2021-11-30</th>\n",
       "      <td>-8.640374</td>\n",
       "      <td>29.871438</td>\n",
       "    </tr>\n",
       "    <tr>\n",
       "      <th>2021-12-31</th>\n",
       "      <td>-9.133720</td>\n",
       "      <td>29.378092</td>\n",
       "    </tr>\n",
       "    <tr>\n",
       "      <th>2022-01-31</th>\n",
       "      <td>-22.646508</td>\n",
       "      <td>31.055266</td>\n",
       "    </tr>\n",
       "    <tr>\n",
       "      <th>2022-02-28</th>\n",
       "      <td>-24.228484</td>\n",
       "      <td>29.473289</td>\n",
       "    </tr>\n",
       "    <tr>\n",
       "      <th>2022-03-31</th>\n",
       "      <td>-26.644389</td>\n",
       "      <td>27.057384</td>\n",
       "    </tr>\n",
       "    <tr>\n",
       "      <th>2022-04-30</th>\n",
       "      <td>-26.710502</td>\n",
       "      <td>26.991271</td>\n",
       "    </tr>\n",
       "    <tr>\n",
       "      <th>2022-05-31</th>\n",
       "      <td>-26.556648</td>\n",
       "      <td>27.145125</td>\n",
       "    </tr>\n",
       "    <tr>\n",
       "      <th>2022-06-30</th>\n",
       "      <td>-26.634886</td>\n",
       "      <td>27.066887</td>\n",
       "    </tr>\n",
       "    <tr>\n",
       "      <th>2022-07-31</th>\n",
       "      <td>-26.644328</td>\n",
       "      <td>27.057446</td>\n",
       "    </tr>\n",
       "    <tr>\n",
       "      <th>2022-08-31</th>\n",
       "      <td>-26.437431</td>\n",
       "      <td>27.264342</td>\n",
       "    </tr>\n",
       "    <tr>\n",
       "      <th>2022-09-30</th>\n",
       "      <td>-25.763274</td>\n",
       "      <td>27.938500</td>\n",
       "    </tr>\n",
       "    <tr>\n",
       "      <th>2022-10-31</th>\n",
       "      <td>-19.928542</td>\n",
       "      <td>33.773231</td>\n",
       "    </tr>\n",
       "    <tr>\n",
       "      <th>2022-11-30</th>\n",
       "      <td>-16.133391</td>\n",
       "      <td>37.568383</td>\n",
       "    </tr>\n",
       "    <tr>\n",
       "      <th>2022-12-31</th>\n",
       "      <td>-16.626737</td>\n",
       "      <td>37.075036</td>\n",
       "    </tr>\n",
       "  </tbody>\n",
       "</table>\n",
       "</div>\n",
       "      <button class=\"colab-df-convert\" onclick=\"convertToInteractive('df-299fec83-7793-4dd2-8c71-e7b028fd9b19')\"\n",
       "              title=\"Convert this dataframe to an interactive table.\"\n",
       "              style=\"display:none;\">\n",
       "        \n",
       "  <svg xmlns=\"http://www.w3.org/2000/svg\" height=\"24px\"viewBox=\"0 0 24 24\"\n",
       "       width=\"24px\">\n",
       "    <path d=\"M0 0h24v24H0V0z\" fill=\"none\"/>\n",
       "    <path d=\"M18.56 5.44l.94 2.06.94-2.06 2.06-.94-2.06-.94-.94-2.06-.94 2.06-2.06.94zm-11 1L8.5 8.5l.94-2.06 2.06-.94-2.06-.94L8.5 2.5l-.94 2.06-2.06.94zm10 10l.94 2.06.94-2.06 2.06-.94-2.06-.94-.94-2.06-.94 2.06-2.06.94z\"/><path d=\"M17.41 7.96l-1.37-1.37c-.4-.4-.92-.59-1.43-.59-.52 0-1.04.2-1.43.59L10.3 9.45l-7.72 7.72c-.78.78-.78 2.05 0 2.83L4 21.41c.39.39.9.59 1.41.59.51 0 1.02-.2 1.41-.59l7.78-7.78 2.81-2.81c.8-.78.8-2.07 0-2.86zM5.41 20L4 18.59l7.72-7.72 1.47 1.35L5.41 20z\"/>\n",
       "  </svg>\n",
       "      </button>\n",
       "      \n",
       "  <style>\n",
       "    .colab-df-container {\n",
       "      display:flex;\n",
       "      flex-wrap:wrap;\n",
       "      gap: 12px;\n",
       "    }\n",
       "\n",
       "    .colab-df-convert {\n",
       "      background-color: #E8F0FE;\n",
       "      border: none;\n",
       "      border-radius: 50%;\n",
       "      cursor: pointer;\n",
       "      display: none;\n",
       "      fill: #1967D2;\n",
       "      height: 32px;\n",
       "      padding: 0 0 0 0;\n",
       "      width: 32px;\n",
       "    }\n",
       "\n",
       "    .colab-df-convert:hover {\n",
       "      background-color: #E2EBFA;\n",
       "      box-shadow: 0px 1px 2px rgba(60, 64, 67, 0.3), 0px 1px 3px 1px rgba(60, 64, 67, 0.15);\n",
       "      fill: #174EA6;\n",
       "    }\n",
       "\n",
       "    [theme=dark] .colab-df-convert {\n",
       "      background-color: #3B4455;\n",
       "      fill: #D2E3FC;\n",
       "    }\n",
       "\n",
       "    [theme=dark] .colab-df-convert:hover {\n",
       "      background-color: #434B5C;\n",
       "      box-shadow: 0px 1px 3px 1px rgba(0, 0, 0, 0.15);\n",
       "      filter: drop-shadow(0px 1px 2px rgba(0, 0, 0, 0.3));\n",
       "      fill: #FFFFFF;\n",
       "    }\n",
       "  </style>\n",
       "\n",
       "      <script>\n",
       "        const buttonEl =\n",
       "          document.querySelector('#df-299fec83-7793-4dd2-8c71-e7b028fd9b19 button.colab-df-convert');\n",
       "        buttonEl.style.display =\n",
       "          google.colab.kernel.accessAllowed ? 'block' : 'none';\n",
       "\n",
       "        async function convertToInteractive(key) {\n",
       "          const element = document.querySelector('#df-299fec83-7793-4dd2-8c71-e7b028fd9b19');\n",
       "          const dataTable =\n",
       "            await google.colab.kernel.invokeFunction('convertToInteractive',\n",
       "                                                     [key], {});\n",
       "          if (!dataTable) return;\n",
       "\n",
       "          const docLinkHtml = 'Like what you see? Visit the ' +\n",
       "            '<a target=\"_blank\" href=https://colab.research.google.com/notebooks/data_table.ipynb>data table notebook</a>'\n",
       "            + ' to learn more about interactive tables.';\n",
       "          element.innerHTML = '';\n",
       "          dataTable['output_type'] = 'display_data';\n",
       "          await google.colab.output.renderOutput(dataTable, element);\n",
       "          const docLink = document.createElement('div');\n",
       "          docLink.innerHTML = docLinkHtml;\n",
       "          element.appendChild(docLink);\n",
       "        }\n",
       "      </script>\n",
       "    </div>\n",
       "  </div>\n",
       "  "
      ],
      "text/plain": [
       "            lower cases_per_100k  upper cases_per_100k\n",
       "2021-01-31            -15.153491             23.358321\n",
       "2021-02-28            -16.735467             21.776345\n",
       "2021-03-31            -19.151372             19.360440\n",
       "2021-04-30            -19.217486             19.294327\n",
       "2021-05-31            -19.063631             19.448181\n",
       "2021-06-30            -19.141870             19.369943\n",
       "2021-07-31            -19.151311             19.360501\n",
       "2021-08-31            -18.944415             19.567398\n",
       "2021-09-30            -18.270257             20.241555\n",
       "2021-10-31            -12.435526             26.076287\n",
       "2021-11-30             -8.640374             29.871438\n",
       "2021-12-31             -9.133720             29.378092\n",
       "2022-01-31            -22.646508             31.055266\n",
       "2022-02-28            -24.228484             29.473289\n",
       "2022-03-31            -26.644389             27.057384\n",
       "2022-04-30            -26.710502             26.991271\n",
       "2022-05-31            -26.556648             27.145125\n",
       "2022-06-30            -26.634886             27.066887\n",
       "2022-07-31            -26.644328             27.057446\n",
       "2022-08-31            -26.437431             27.264342\n",
       "2022-09-30            -25.763274             27.938500\n",
       "2022-10-31            -19.928542             33.773231\n",
       "2022-11-30            -16.133391             37.568383\n",
       "2022-12-31            -16.626737             37.075036"
      ]
     },
     "execution_count": 114,
     "metadata": {},
     "output_type": "execute_result"
    }
   ],
   "source": [
    "pred_ci.head(24)"
   ]
  },
  {
   "cell_type": "code",
   "execution_count": null,
   "metadata": {
    "colab": {
     "base_uri": "https://localhost:8080/"
    },
    "id": "F4PRIiWDite5",
    "outputId": "e69840e3-b0d9-44fe-ecdc-286118dbd54d"
   },
   "outputs": [
    {
     "data": {
      "text/plain": [
       "2021-01-31     4.102415\n",
       "2021-02-28     2.520439\n",
       "2021-03-31     0.104534\n",
       "2021-04-30     0.038420\n",
       "2021-05-31     0.192275\n",
       "2021-06-30     0.114037\n",
       "2021-07-31     0.104595\n",
       "2021-08-31     0.311491\n",
       "2021-09-30     0.985649\n",
       "2021-10-31     6.820381\n",
       "2021-11-30    10.615532\n",
       "2021-12-31    10.122186\n",
       "2022-01-31     4.204379\n",
       "2022-02-28     2.622403\n",
       "2022-03-31     0.206498\n",
       "2022-04-30     0.140384\n",
       "2022-05-31     0.294239\n",
       "2022-06-30     0.216001\n",
       "2022-07-31     0.206559\n",
       "2022-08-31     0.413455\n",
       "2022-09-30     1.087613\n",
       "2022-10-31     6.922344\n",
       "2022-11-30    10.717496\n",
       "2022-12-31    10.224150\n",
       "Freq: M, dtype: float64"
      ]
     },
     "execution_count": 117,
     "metadata": {},
     "output_type": "execute_result"
    }
   ],
   "source": [
    "forecast = pred_uc.predicted_mean\n",
    "forecast.head(24)"
   ]
  },
  {
   "cell_type": "code",
   "execution_count": null,
   "metadata": {
    "colab": {
     "base_uri": "https://localhost:8080/",
     "height": 522
    },
    "id": "LRQDFdc-i1Jn",
    "outputId": "8abf8d68-c9bc-49e9-9f05-f0c6fe127c72"
   },
   "outputs": [
    {
     "data": {
      "text/plain": [
       "<matplotlib.axes._subplots.AxesSubplot at 0x7f7108d003d0>"
      ]
     },
     "execution_count": 116,
     "metadata": {},
     "output_type": "execute_result"
    },
    {
     "data": {
      "image/png": "[encoded data removed]",
      "text/plain": [
       "<Figure size 720x560 with 1 Axes>"
      ]
     },
     "metadata": {},
     "output_type": "display_data"
    }
   ],
   "source": [
    "forecast.plot()"
   ]
  },
  {
   "cell_type": "code",
   "execution_count": null,
   "metadata": {
    "id": "_NobLIxgnPpW"
   },
   "outputs": [],
   "source": []
  }
 ],
 "metadata": {
  "colab": {
   "collapsed_sections": [],
   "name": "SARIMAX Model.ipynb",
   "provenance": []
  },
  "kernelspec": {
   "display_name": "Python 3",
   "language": "python",
   "name": "python3"
  },
  "language_info": {
   "codemirror_mode": {
    "name": "ipython",
    "version": 3
   },
   "file_extension": ".py",
   "mimetype": "text/x-python",
   "name": "python",
   "nbconvert_exporter": "python",
   "pygments_lexer": "ipython3",
   "version": "3.7.3"
  }
 },
 "nbformat": 4,
 "nbformat_minor": 1
}
